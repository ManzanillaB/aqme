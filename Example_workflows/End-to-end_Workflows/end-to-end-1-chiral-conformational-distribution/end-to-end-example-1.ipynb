{
 "cells": [
  {
   "cell_type": "markdown",
   "metadata": {},
   "source": [
    "# Example 1"
   ]
  },
  {
   "cell_type": "markdown",
   "metadata": {},
   "source": [
    "### End-to-end workflow to calculate conformer proportions of strychnine with AQME from SMILES"
   ]
  },
  {
   "cell_type": "markdown",
   "metadata": {},
   "source": [
    "This workflow includes:\n",
    "\n",
    "i) RDKit conformer sampling,\\\n",
    "ii) Gaussian geometry optimization (ωB97x-D/def2TZVPP, SMD = CHCl3),\\\n",
    "iii) fixing errors and imaginary frequencies of the output files,\\\n",
    "iii) creation and analysis of NMR chemical shifts for the conformers generated,\\\n",
    "iv) GoodVibes calculation of Boltzmann distributions using Gibbs free energies at 298.15 K. "
   ]
  },
  {
   "cell_type": "markdown",
   "metadata": {},
   "source": [
    "#### Steps involved in this example"
   ]
  },
  {
   "cell_type": "markdown",
   "metadata": {},
   "source": [
    "- Step 1: Import of AQME modules and necessary other python modules\n",
    "- Step 2: CSEARCH conformational sampling (creates SDF files)\n",
    "- Step 3: Writing Gaussian input files with the SDF using QPREP\n",
    "- Step 4: Run gaussian inputs externally\n",
    "- Step 5: QCORR analysis including isomerization filter\n",
    "- Step 6: Resubmission of unsuccessful calculations with suggestions from AQME (if any)\n",
    "- Step 7: Analyze the new jobs (if any) with QCORR\n",
    "- Step 8: Calculate single points for NMR\n",
    "- Step 9: Boltzmann weighted NMR properties\n",
    "- Step 10: Calculate population distribution with GoodVibes"
   ]
  },
  {
   "cell_type": "markdown",
   "metadata": {},
   "source": [
    "###  Step 1: Import of AQME modules and necessary other python modules"
   ]
  },
  {
   "cell_type": "code",
   "execution_count": 1,
   "metadata": {},
   "outputs": [
    {
     "name": "stderr",
     "output_type": "stream",
     "text": [
      "RDKit WARNING: [11:05:12] Enabling RDKit 2019.09.3 jupyter extensions\n",
      "[11:05:12] Enabling RDKit 2019.09.3 jupyter extensions\n"
     ]
    }
   ],
   "source": [
    "import os, glob, subprocess\n",
    "from pathlib import Path \n",
    "import shutil\n",
    "from aqme.csearch import csearch\n",
    "from aqme.qprep import qprep\n",
    "from aqme.qcorr import qcorr\n",
    "from aqme.qdescp import qdescp"
   ]
  },
  {
   "cell_type": "markdown",
   "metadata": {},
   "source": [
    "### Step 2: CSEARCH conformational sampling (creates SDF files)"
   ]
  },
  {
   "cell_type": "code",
   "execution_count": 3,
   "metadata": {},
   "outputs": [],
   "source": [
    "name = 'Strychnine'\n",
    "smi = 'C1CN2CC3=CCO[C@H]4CC(=O)N5[C@H]6[C@H]4[C@H]3C[C@H]2[C@@]61C7=CC=CC=C75'\n",
    "program = 'rdkit'\n",
    "\n",
    "w_dir_main = Path(os.getcwd())\n",
    "sdf_path = w_dir_main.joinpath(f'{name}_sdf-files')\n",
    "\n",
    "# csearch(w_dir_main=w_dir_main,destination=sdf_path,program=program,smi=smi,name=name)"
   ]
  },
  {
   "cell_type": "markdown",
   "metadata": {},
   "source": [
    "### Step 3: Writing Gaussian input files with the SDF obtained from CSEARCH"
   ]
  },
  {
   "cell_type": "code",
   "execution_count": 4,
   "metadata": {},
   "outputs": [
    {
     "name": "stdout",
     "output_type": "stream",
     "text": [
      "AQME v 1.2 2022/07/10 10:17:08 \n",
      "Citation: AQME v 1.2, Alegre-Requena, J. V.; Sowndarya, S.; Perez-Soto, R.; Alturaifi, T. M.; Paton, R. S., 2022. https://github.com/jvalegre/aqme\n",
      "\n",
      "\n",
      "o  Strychnine_rdkit successfully processed at /home/svss/Project-DBcg-Debug/aqme2_20220329/paper_examples_3_final/end-to-end-1-chiral-conformational-distribution/Strychnine_com-files\n",
      "\n",
      "\n",
      "Time QPREP: 0.06 seconds\n",
      "\n",
      "\n"
     ]
    },
    {
     "data": {
      "text/plain": [
       "<aqme.qprep.qprep at 0x2af05127cfd0>"
      ]
     },
     "execution_count": 4,
     "metadata": {},
     "output_type": "execute_result"
    }
   ],
   "source": [
    "sdf_rdkit_files = f'{sdf_path}/*.sdf'\n",
    "com_path = w_dir_main.joinpath(f'{name}_com-files')\n",
    "\n",
    "program = 'gaussian'\n",
    "qm_input = 'wB97xd/def2TZVPP scrf=(solvent=chloroform,smd) opt freq'\n",
    "mem='24GB'\n",
    "nprocs=12\n",
    "\n",
    "qprep(w_dir_main=sdf_path,destination=com_path,files=sdf_rdkit_files,program=program,\n",
    "        qm_input=qm_input,mem=mem,nprocs=nprocs)\n",
    " "
   ]
  },
  {
   "cell_type": "markdown",
   "metadata": {},
   "source": [
    "### Step 4: Run Gaussian inputs externally"
   ]
  },
  {
   "cell_type": "code",
   "execution_count": 4,
   "metadata": {},
   "outputs": [],
   "source": [
    "# move to the folder with the input files"
   ]
  },
  {
   "cell_type": "markdown",
   "metadata": {},
   "source": [
    "### Step 5: QCORR analysis including isomerization filter"
   ]
  },
  {
   "cell_type": "code",
   "execution_count": 5,
   "metadata": {},
   "outputs": [
    {
     "name": "stdout",
     "output_type": "stream",
     "text": [
      "o  Analyzing output files in /home/svss/Project-DBcg-Debug/aqme2_20220329/paper_examples_3_final/end-to-end-1-chiral-conformational-distribution/Strychnine_com-files\n",
      "\n",
      "\n",
      "Attempting to parse /home/svss/Project-DBcg-Debug/aqme2_20220329/paper_examples_3_final/end-to-end-1-chiral-conformational-distribution/Strychnine_com-files/Strychnine_rdkit_conf_1.log\n",
      "cclib can parse the following attributes from /home/svss/Project-DBcg-Debug/aqme2_20220329/paper_examples_3_final/end-to-end-1-chiral-conformational-distribution/Strychnine_com-files/Strychnine_rdkit_conf_1.log:\n",
      "  atomcharges\n",
      "  atomcoords\n",
      "  atomnos\n",
      "  charge\n",
      "  coreelectrons\n",
      "  enthalpy\n",
      "  entropy\n",
      "  freeenergy\n",
      "  geotargets\n",
      "  geovalues\n",
      "  grads\n",
      "  homos\n",
      "  metadata\n",
      "  moenergies\n",
      "  moments\n",
      "  mosyms\n",
      "  mult\n",
      "  natom\n",
      "  nbasis\n",
      "  nmo\n",
      "  optdone\n",
      "  optstatus\n",
      "  polarizabilities\n",
      "  pressure\n",
      "  scfenergies\n",
      "  scftargets\n",
      "  temperature\n",
      "  vibdisps\n",
      "  vibfreqs\n",
      "  vibirs\n",
      "  vibsyms\n",
      "  zpve\n",
      "/home/svss/Project-DBcg-Debug/aqme2_20220329/paper_examples_3_final/end-to-end-1-chiral-conformational-distribution/Strychnine_com-files/Strychnine_rdkit_conf_1.log: Termination = normal, Error type = none\n",
      "\n",
      "Attempting to parse /home/svss/Project-DBcg-Debug/aqme2_20220329/paper_examples_3_final/end-to-end-1-chiral-conformational-distribution/Strychnine_com-files/Strychnine_rdkit_conf_2.log\n",
      "cclib can parse the following attributes from /home/svss/Project-DBcg-Debug/aqme2_20220329/paper_examples_3_final/end-to-end-1-chiral-conformational-distribution/Strychnine_com-files/Strychnine_rdkit_conf_2.log:\n",
      "  atomcharges\n",
      "  atomcoords\n",
      "  atomnos\n",
      "  charge\n",
      "  coreelectrons\n",
      "  enthalpy\n",
      "  entropy\n",
      "  freeenergy\n",
      "  geotargets\n",
      "  geovalues\n",
      "  grads\n",
      "  homos\n",
      "  metadata\n",
      "  moenergies\n",
      "  moments\n",
      "  mosyms\n",
      "  mult\n",
      "  natom\n",
      "  nbasis\n",
      "  nmo\n",
      "  optdone\n",
      "  optstatus\n",
      "  polarizabilities\n",
      "  pressure\n",
      "  scfenergies\n",
      "  scftargets\n",
      "  temperature\n",
      "  vibdisps\n",
      "  vibfreqs\n",
      "  vibirs\n",
      "  vibsyms\n",
      "  zpve\n",
      "o  Strychnine_rdkit_conf_2 successfully processed at /home/svss/Project-DBcg-Debug/aqme2_20220329/paper_examples_3_final/end-to-end-1-chiral-conformational-distribution/Strychnine_com-files/failed/run_1/fixed_QM_inputs\n",
      "\n",
      "/home/svss/Project-DBcg-Debug/aqme2_20220329/paper_examples_3_final/end-to-end-1-chiral-conformational-distribution/Strychnine_com-files/Strychnine_rdkit_conf_2.log: Termination = normal, Error type = freq_no_conv\n",
      "\n",
      "-- Full check analysis --\n",
      "o  Same program (Gaussian 16, Revision C.01) used in all the calculations\n",
      "o  Same grid_type (ultrafine) used in all the calculations\n",
      "o  Same level_of_theory (wB97XD/def2TZVPP) used in all the calculations\n",
      "o  Same dispersion (none) used in all the calculations\n",
      "o  Same solvation (scrf=(solvent=chloroform,smd)) used in all the calculations\n",
      "\n",
      " Time QCORR: 4.69 seconds\n",
      "\n",
      "\n"
     ]
    },
    {
     "data": {
      "text/plain": [
       "<aqme.qcorr.qcorr at 0x2b8765bdac90>"
      ]
     },
     "execution_count": 5,
     "metadata": {},
     "output_type": "execute_result"
    }
   ],
   "source": [
    "log_files=f'{com_path}/*.log'\n",
    "qcorr(files=log_files,freq_conv='opt=(calcfc,maxstep=5)',isom_type='com',isom_inputs=com_path, nprocs=24, mem='96GB')"
   ]
  },
  {
   "cell_type": "markdown",
   "metadata": {},
   "source": [
    "### Step 6: Resubmission of unsuccessful calculations with suggestions from AQME (if any)"
   ]
  },
  {
   "cell_type": "code",
   "execution_count": 6,
   "metadata": {},
   "outputs": [],
   "source": [
    "# run gaussian externally"
   ]
  },
  {
   "cell_type": "markdown",
   "metadata": {},
   "source": [
    "### Step 7: Analyze the new jobs (if any) with QCORR"
   ]
  },
  {
   "cell_type": "code",
   "execution_count": 7,
   "metadata": {},
   "outputs": [
    {
     "name": "stdout",
     "output_type": "stream",
     "text": [
      "Warning! Option: [ isom : com ] provided but no option exists, try the online documentation to see available options for each module.\n",
      "o  Analyzing output files in /home/svss/Project-DBcg-Debug/aqme2_20220329/paper_examples_3_final/end-to-end-1-chiral-conformational-distribution/Strychnine_com-files/failed/run_1/fixed_QM_inputs\n",
      "\n",
      "\n",
      "Attempting to parse /home/svss/Project-DBcg-Debug/aqme2_20220329/paper_examples_3_final/end-to-end-1-chiral-conformational-distribution/Strychnine_com-files/failed/run_1/fixed_QM_inputs/Strychnine_rdkit_conf_2.log\n",
      "cclib can parse the following attributes from /home/svss/Project-DBcg-Debug/aqme2_20220329/paper_examples_3_final/end-to-end-1-chiral-conformational-distribution/Strychnine_com-files/failed/run_1/fixed_QM_inputs/Strychnine_rdkit_conf_2.log:\n",
      "  atomcharges\n",
      "  atomcoords\n",
      "  atomnos\n",
      "  charge\n",
      "  coreelectrons\n",
      "  enthalpy\n",
      "  entropy\n",
      "  freeenergy\n",
      "  geotargets\n",
      "  geovalues\n",
      "  grads\n",
      "  homos\n",
      "  metadata\n",
      "  moenergies\n",
      "  moments\n",
      "  mosyms\n",
      "  mult\n",
      "  natom\n",
      "  nbasis\n",
      "  nmo\n",
      "  optdone\n",
      "  optstatus\n",
      "  polarizabilities\n",
      "  pressure\n",
      "  scfenergies\n",
      "  scftargets\n",
      "  temperature\n",
      "  vibdisps\n",
      "  vibfreqs\n",
      "  vibirs\n",
      "  vibsyms\n",
      "  zpve\n",
      "/home/svss/Project-DBcg-Debug/aqme2_20220329/paper_examples_3_final/end-to-end-1-chiral-conformational-distribution/Strychnine_com-files/failed/run_1/fixed_QM_inputs/Strychnine_rdkit_conf_2.log: Termination = normal, Error type = none\n",
      "\n",
      "-- Full check analysis --\n",
      "o  Same program (Gaussian 16, Revision C.01) used in all the calculations\n",
      "o  Same grid_type (ultrafine) used in all the calculations\n",
      "o  Same level_of_theory (wB97XD/def2TZVPP) used in all the calculations\n",
      "o  Same dispersion (none) used in all the calculations\n",
      "o  Same solvation (scrf=(solvent=chloroform,smd)) used in all the calculations\n",
      "\n",
      " Time QCORR: 2.16 seconds\n",
      "\n",
      "\n"
     ]
    },
    {
     "data": {
      "text/plain": [
       "<aqme.qcorr.qcorr at 0x2b8836fa21d0>"
      ]
     },
     "execution_count": 7,
     "metadata": {},
     "output_type": "execute_result"
    }
   ],
   "source": [
    "fixed_inp_folder = com_path.joinpath('failed/run_1/fixed_QM_inputs')\n",
    "log_files=f'{fixed_inp_folder}/*.log'\n",
    "\n",
    "qcorr(files=log_files,freq_conv='opt=(calcfc,maxstep=5)',isom='com',isom_inputs=fixed_inp_folder,nprocs=24, mem='96GB')"
   ]
  },
  {
   "cell_type": "markdown",
   "metadata": {},
   "source": [
    "### Step 8: Calculate single points for NMR"
   ]
  },
  {
   "cell_type": "code",
   "execution_count": 8,
   "metadata": {},
   "outputs": [
    {
     "name": "stdout",
     "output_type": "stream",
     "text": [
      "o  Strychnine_rdkit_conf_1 successfully processed at /home/svss/Project-DBcg-Debug/aqme2_20220329/paper_examples_3_final/end-to-end-1-chiral-conformational-distribution/Strychnine_sp-files\n",
      "\n",
      "o  Strychnine_rdkit_conf_2 successfully processed at /home/svss/Project-DBcg-Debug/aqme2_20220329/paper_examples_3_final/end-to-end-1-chiral-conformational-distribution/Strychnine_sp-files\n",
      "\n"
     ]
    },
    {
     "data": {
      "text/plain": [
       "<aqme.qprep.qprep at 0x2b8765e17910>"
      ]
     },
     "execution_count": 8,
     "metadata": {},
     "output_type": "execute_result"
    }
   ],
   "source": [
    "success_folder = com_path.joinpath('success')\n",
    "log_files = f'{success_folder}/*.log'\n",
    "sp_path = w_dir_main.joinpath(f'{name}_sp-files')\n",
    "\n",
    "program = 'gaussian'\n",
    "qm_input = 'wB97xd/def2TZVPP nmr=giao'\n",
    "mem='24GB'\n",
    "nprocs=12\n",
    "\n",
    "qprep(w_dir_main=success_folder,destination=sp_path,files=log_files,program=program,qm_input=qm_input,mem=mem,nprocs=nprocs)\n"
   ]
  },
  {
   "cell_type": "markdown",
   "metadata": {},
   "source": [
    "### Step 9: Boltzmann weighted NMR properties"
   ]
  },
  {
   "cell_type": "code",
   "execution_count": 9,
   "metadata": {},
   "outputs": [
    {
     "name": "stdout",
     "output_type": "stream",
     "text": [
      "o  Analyzing output files in /home/svss/Project-DBcg-Debug/aqme2_20220329/paper_examples_3_final/end-to-end-1-chiral-conformational-distribution/Strychnine_sp-files\n",
      "\n",
      "\n",
      "Attempting to parse /home/svss/Project-DBcg-Debug/aqme2_20220329/paper_examples_3_final/end-to-end-1-chiral-conformational-distribution/Strychnine_sp-files/Strychnine_rdkit_conf_1.log\n",
      "cclib can parse the following attributes from /home/svss/Project-DBcg-Debug/aqme2_20220329/paper_examples_3_final/end-to-end-1-chiral-conformational-distribution/Strychnine_sp-files/Strychnine_rdkit_conf_1.log:\n",
      "  atomcharges\n",
      "  atomcoords\n",
      "  atomnos\n",
      "  charge\n",
      "  coreelectrons\n",
      "  homos\n",
      "  metadata\n",
      "  moenergies\n",
      "  moments\n",
      "  mosyms\n",
      "  mult\n",
      "  natom\n",
      "  nbasis\n",
      "  nmo\n",
      "  scfenergies\n",
      "  scftargets\n",
      "/home/svss/Project-DBcg-Debug/aqme2_20220329/paper_examples_3_final/end-to-end-1-chiral-conformational-distribution/Strychnine_sp-files/Strychnine_rdkit_conf_1.log: Termination = normal, Error type = sp_calc\n",
      "\n",
      "Attempting to parse /home/svss/Project-DBcg-Debug/aqme2_20220329/paper_examples_3_final/end-to-end-1-chiral-conformational-distribution/Strychnine_sp-files/Strychnine_rdkit_conf_2.log\n",
      "cclib can parse the following attributes from /home/svss/Project-DBcg-Debug/aqme2_20220329/paper_examples_3_final/end-to-end-1-chiral-conformational-distribution/Strychnine_sp-files/Strychnine_rdkit_conf_2.log:\n",
      "  atomcharges\n",
      "  atomcoords\n",
      "  atomnos\n",
      "  charge\n",
      "  coreelectrons\n",
      "  homos\n",
      "  metadata\n",
      "  moenergies\n",
      "  moments\n",
      "  mosyms\n",
      "  mult\n",
      "  natom\n",
      "  nbasis\n",
      "  nmo\n",
      "  scfenergies\n",
      "  scftargets\n",
      "/home/svss/Project-DBcg-Debug/aqme2_20220329/paper_examples_3_final/end-to-end-1-chiral-conformational-distribution/Strychnine_sp-files/Strychnine_rdkit_conf_2.log: Termination = normal, Error type = sp_calc\n",
      "\n",
      "\n",
      "x  No normal terminations with no errors to run the full check analysis\n",
      "\n",
      "\n",
      " Time QCORR: 4.2 seconds\n",
      "\n",
      "\n"
     ]
    },
    {
     "data": {
      "text/plain": [
       "<aqme.qcorr.qcorr at 0x2b8765bfc390>"
      ]
     },
     "execution_count": 9,
     "metadata": {},
     "output_type": "execute_result"
    }
   ],
   "source": [
    "log_files=f'{sp_path}/*.log'\n",
    "qcorr(files=log_files)"
   ]
  },
  {
   "cell_type": "code",
   "execution_count": 20,
   "metadata": {},
   "outputs": [
    {
     "data": {
      "text/plain": [
       "<aqme.qdescp.qdescp at 0x2b876a7b3a90>"
      ]
     },
     "execution_count": 20,
     "metadata": {},
     "output_type": "execute_result"
    }
   ],
   "source": [
    "json_folder = sp_path.joinpath('success/SP_calcs/json_files')\n",
    "json_files=f'{json_folder}/*.json'\n",
    "\n",
    "nmr_path = w_dir_main.joinpath(f'{name}_nmr-files')\n",
    "\n",
    "qdescp(program='nmr',boltz=True,files=json_files,destination=nmr_path)"
   ]
  },
  {
   "cell_type": "markdown",
   "metadata": {},
   "source": [
    "### Step 10: Calculate population distribution with GoodVibes"
   ]
  },
  {
   "cell_type": "code",
   "execution_count": 22,
   "metadata": {},
   "outputs": [
    {
     "name": "stdout",
     "output_type": "stream",
     "text": [
      "   GoodVibes v3.0.1 2022/07/05 16:36:18\n",
      "   REF: Luchini, G.; Alegre-Requena J. V.; Guan, Y.; Funes-Ardoiz, I.; Paton, R. S. (2019).\n",
      "        GoodVibes: GoodVibes 3.0.1 http://doi.org/10.5281/zenodo.595246\n",
      "   Requested: --boltz --xyz -c 1 \n",
      "\n",
      "   Temperature = 298.15 Kelvin   Concentration = 1.0 mol/l\n",
      "   All energetic values below shown in Hartree unless otherwise specified.\n",
      "   Using vibrational scale factor 1.0 for wB97XD/def2TZVPP level of theory\n",
      "\n",
      "   Caution! Implicit solvation (SMD/CPCM) detected. Enthalpic and entropic terms cannot be safely separated. Use them at your own risk!\n",
      "\n",
      "   Entropic quasi-harmonic treatment: frequency cut-off value of 100.0 wavenumbers will be applied.\n",
      "   QS = Grimme: Using a mixture of RRHO and Free-rotor vibrational entropies.\n",
      "   REF: Grimme, S. Chem. Eur. J. 2012, 18, 9955-9964\n",
      "\n",
      "\n",
      "   Structure                                           E        ZPE             H        T.S     T.qh-S          G(T)       qh-G(T)  Boltz\n",
      "   ***************************************************************************************************************************************\n",
      "o  Strychnine_rdkit_conf_1                  -1073.519454   0.403531  -1073.098073   0.057669   0.056700  -1073.155742  -1073.154773  0.986\n",
      "o  Strychnine_rdkit_conf_2                  -1073.516394   0.404276  -1073.094463   0.057145   0.056267  -1073.151609  -1073.150730  0.014\n",
      "   ***************************************************************************************************************************************\n"
     ]
    }
   ],
   "source": [
    "success_dir = com_path.joinpath('success')\n",
    "opt_files = glob.glob(f'{success_folder}/*.log')\n",
    "\n",
    "GV_folder = w_dir_main.joinpath(f'{name}_goodvibes-files')\n",
    "GV_folder.mkdir(exist_ok=True, parents=True)\n",
    "\n",
    "for file in opt_files:\n",
    "\tshutil.copy(file, GV_folder)\n",
    "\n",
    "os.chdir(GV_folder)\n",
    "subprocess.run(['python', '-m', 'goodvibes', '--boltz', '--xyz', '-c', '1', '*.log'])\n",
    "os.chdir(w_dir_main)"
   ]
  },
  {
   "cell_type": "code",
   "execution_count": null,
   "metadata": {},
   "outputs": [],
   "source": []
  }
 ],
 "metadata": {
  "interpreter": {
   "hash": "8aa3fe90e464923406f5eccc2b73c2c346150d55ceabc9491937b00a06e4c2ce"
  },
  "kernelspec": {
   "display_name": "bm",
   "language": "python",
   "name": "bm"
  },
  "language_info": {
   "codemirror_mode": {
    "name": "ipython",
    "version": 3
   },
   "file_extension": ".py",
   "mimetype": "text/x-python",
   "name": "python",
   "nbconvert_exporter": "python",
   "pygments_lexer": "ipython3",
   "version": "3.7.4"
  }
 },
 "nbformat": 4,
 "nbformat_minor": 5
}
