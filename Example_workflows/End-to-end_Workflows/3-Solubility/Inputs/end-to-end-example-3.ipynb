{
 "cells": [
  {
   "cell_type": "markdown",
   "id": "41b1a529",
   "metadata": {},
   "source": [
    "# Example 3"
   ]
  },
  {
   "cell_type": "markdown",
   "id": "b6b11959",
   "metadata": {},
   "source": [
    "### xTB descriptors to predict solubility using GNN"
   ]
  },
  {
   "cell_type": "markdown",
   "id": "ad155a03",
   "metadata": {},
   "source": [
    "This workflow includes:\n",
    "\n",
    "i) RDKit conformer sampling \\\n",
    "ii) xTB porperty calculations to determine molecular and atomic properties \\\n",
    "iii) Generate a GNN model to predict solubility"
   ]
  },
  {
   "cell_type": "markdown",
   "id": "99e809bc",
   "metadata": {},
   "source": [
    "#### Steps involved in this example"
   ]
  },
  {
   "cell_type": "markdown",
   "id": "ba348e81",
   "metadata": {},
   "source": [
    "- Step 1: Import AQME and other python modules, and the required CSV\n",
    "- Step 2: Run CSEARCH (RDKit) on the CSV\n",
    "- Step 3: Run xTB calculations using QDESCP\n",
    "- Step 4: Create the CSV file with descriptors for the GNN model \n",
    "- Step 5: Run the gnn.py to get results\n",
    "  - Step 5a: Load the solubility CSV file and split the data into training, validation and test sets\n",
    "  - Step 6a: Set up the GNN model\n",
    "  - Step 7a: Predict solubities of external test set using the GNN model"
   ]
  },
  {
   "cell_type": "markdown",
   "id": "a70d29b3",
   "metadata": {},
   "source": [
    "###  Step 1: Import AQME and other python modules, and the required CSV"
   ]
  },
  {
   "cell_type": "code",
   "execution_count": null,
   "id": "fbcabf3b",
   "metadata": {},
   "outputs": [],
   "source": [
    "import glob\n",
    "from aqme.csearch import csearch\n",
    "from aqme.qdescp import qdescp\n",
    "import pandas as pd\n",
    "import numpy as np\n",
    "import matplotlib.pyplot as plt\n",
    "import seaborn as sns\n",
    "from gnn_functions import *\n",
    "from sklearn.metrics import r2_score\n",
    "import sklearn.metrics as metrics\n",
    "import tensorflow as tf\n",
    "\n",
    "file = 'solubility.csv'"
   ]
  },
  {
   "cell_type": "markdown",
   "id": "77918f8e",
   "metadata": {},
   "source": [
    "###  Step 2: Run CSEARCH (RDKit) on the CSV"
   ]
  },
  {
   "cell_type": "code",
   "execution_count": null,
   "id": "d337edee",
   "metadata": {},
   "outputs": [],
   "source": [
    "csearch(program='rdkit',input=file,ewin_csearch=1)"
   ]
  },
  {
   "cell_type": "markdown",
   "id": "869c4adf",
   "metadata": {},
   "source": [
    "### Step 3 : Run xTB calculations using QDESCP"
   ]
  },
  {
   "cell_type": "code",
   "execution_count": null,
   "id": "c81406de",
   "metadata": {},
   "outputs": [],
   "source": [
    "sdf_rdkit_files = glob.glob(f'CSEARCH/*.sdf')\n",
    "qdescp(files=sdf_rdkit_files, boltz=True, program='xtb')\n",
    "\n",
    "#or run with python script on terminal if the number of molecules are large\n",
    "\n",
    "#python run_qdescp.py"
   ]
  },
  {
   "cell_type": "markdown",
   "id": "b383fbdd",
   "metadata": {},
   "source": [
    "### Step 4 : Create the CSV file with descriptors for the GNN model "
   ]
  },
  {
   "cell_type": "code",
   "execution_count": null,
   "id": "2e34b984-e4e1-4fc8-a831-d5f2d0a64c2c",
   "metadata": {},
   "outputs": [],
   "source": []
  },
  {
   "cell_type": "code",
   "execution_count": null,
   "id": "289c6bd4",
   "metadata": {},
   "outputs": [],
   "source": [
    "data =  pd.read_csv(file)\n",
    "drop = ['mol_556','mol_641']\n",
    "data = data[~data.code_name.isin(drop)]\n",
    "data['xtbjson'] = data['code_name'].apply(lambda x: 'QDESCP/boltz/{}_rdkit_boltz.json'.format(x))\n",
    "data.to_csv('solubility_xtb.csv',index=False)"
   ]
  },
  {
   "cell_type": "markdown",
   "id": "567a9aa7",
   "metadata": {},
   "source": [
    "### The following steps can be done using a script as shown or run in the notebook itself"
   ]
  },
  {
   "cell_type": "markdown",
   "id": "ee8e3024",
   "metadata": {},
   "source": [
    "###  Step 5: Run the gnn.py to get results\n",
    "\n",
    "##### We had done it by using the gnn.py script for our result of R2=0.8 "
   ]
  },
  {
   "cell_type": "code",
   "execution_count": null,
   "id": "a0b3e7a8",
   "metadata": {},
   "outputs": [],
   "source": [
    "#python gnn.py"
   ]
  },
  {
   "cell_type": "markdown",
   "id": "d29d96f3",
   "metadata": {},
   "source": [
    "###  Step 5a: Load the solubility CSV file and split the data into training, validation and test sets"
   ]
  },
  {
   "cell_type": "code",
   "execution_count": null,
   "id": "27e87d7b",
   "metadata": {},
   "outputs": [],
   "source": [
    "sol = pd.read_csv('solubility_xtb.csv')\n",
    "valid, test, train = np.split(sol[['smiles','xtbjson']].sample(frac=1., random_state=41), [50, 100])"
   ]
  },
  {
   "cell_type": "markdown",
   "id": "a4daa035",
   "metadata": {},
   "source": [
    "###  Step 5b: Set up the GNN dataset and model"
   ]
  },
  {
   "cell_type": "code",
   "execution_count": null,
   "id": "0d939e85",
   "metadata": {},
   "outputs": [],
   "source": [
    "train_dataset, valid_dataset, test_dataset = gnn_data(valid, test, train, sol)\n",
    "inputs, outputs = next(train_dataset.as_numpy_iterator())"
   ]
  },
  {
   "cell_type": "code",
   "execution_count": null,
   "id": "1b330534",
   "metadata": {},
   "outputs": [],
   "source": [
    "model = gnn_model()\n",
    "model.compile(loss='mae', optimizer=tf.keras.optimizers.Adam(1E-3))\n",
    "model.fit(train_dataset, validation_data=valid_dataset, epochs=200)"
   ]
  },
  {
   "cell_type": "markdown",
   "id": "48b8c014",
   "metadata": {},
   "source": [
    "### Step 5c: Predict solubities of external test set using the GNN model"
   ]
  },
  {
   "cell_type": "code",
   "execution_count": null,
   "id": "76a9a531",
   "metadata": {},
   "outputs": [],
   "source": [
    "# Predict solubility of the external test set\n",
    "test_predictions = model.predict(test_dataset)\n",
    "test_db_values = sol.set_index('smiles').reindex(test.smiles)['measured log solubility in mols per litre'].values\n",
    "\n",
    "# Plot the results\n",
    "fig = plt.subplots(figsize=(4,4))\n",
    "\n",
    "ax1 = sns.scatterplot(x=test_db_values,y=test_predictions.flatten(),s=30,marker='o',color='b',alpha=0.5)\n",
    "ax1.set_xlabel(r'Measured',fontsize=10)\n",
    "ax1.set_ylabel(r'Predicted',fontsize=10)\n",
    "\n",
    "mae = metrics.mean_absolute_error(test_db_values,test_predictions.flatten())\n",
    "r2 = metrics.r2_score(test_db_values,test_predictions.flatten())\n",
    "\n",
    "plt.annotate(f\"$R^2$ = {round(r2,1)} \\nMAE = {round(mae,1)} \", xy=(-2.3, -5.9), fontsize=10)\n",
    "plt.savefig('solubility-gnn.jpg',dpi=400)\n",
    "plt.show()"
   ]
  },
  {
   "cell_type": "code",
   "execution_count": null,
   "id": "96da5a35-f162-4aca-8b0c-cb336855163a",
   "metadata": {},
   "outputs": [],
   "source": []
  }
 ],
 "metadata": {
  "kernelspec": {
   "display_name": "base",
   "language": "python",
   "name": "python3"
  },
  "language_info": {
   "codemirror_mode": {
    "name": "ipython",
    "version": 3
   },
   "file_extension": ".py",
   "mimetype": "text/x-python",
   "name": "python",
   "nbconvert_exporter": "python",
   "pygments_lexer": "ipython3",
   "version": "3.9.7 (default, Sep 16 2021, 16:59:28) [MSC v.1916 64 bit (AMD64)]"
  },
  "vscode": {
   "interpreter": {
    "hash": "6c100345108a7047ea96fae483cb64f49bdc23a8b225db90a5987a96959e820b"
   }
  }
 },
 "nbformat": 4,
 "nbformat_minor": 5
}
