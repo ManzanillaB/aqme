{
 "cells": [
  {
   "cell_type": "markdown",
   "id": "4ad51459",
   "metadata": {},
   "source": [
    "#### Organic molecule with SMILES input, CSEARCH performs conformational sampling with RDKit, QPREP creates Gaussian input files"
   ]
  },
  {
   "cell_type": "markdown",
   "id": "40799166",
   "metadata": {},
   "source": [
    "###### Bonus 2: using a CSV with many SMILES"
   ]
  },
  {
   "cell_type": "code",
   "execution_count": null,
   "id": "2ddd295a",
   "metadata": {},
   "outputs": [],
   "source": [
    "import os, glob\n",
    "from pathlib import Path\n",
    "from aqme.csearch import csearch\n",
    "from aqme.qprep import qprep\n",
    "\n",
    "# Ideal for ML or big data projects, only need to replace smi and name with CSV input\n",
    "csv_input = 'Solub_DB.csv'\n",
    "sdf_folder = 'Solub_DB'\n",
    "w_dir_main = Path(os.getcwd())\n",
    "sdf_path = w_dir_main.joinpath(sdf_folder)\n",
    "\n",
    "# create conformers for all the entries in the CSV\n",
    "csearch(w_dir_main=w_dir_main,destination=sdf_path,\n",
    "        program='rdkit',input=csv_input)\n",
    "\n",
    "# set SDF filenames and directory where the new com files will be created\n",
    "com_path = sdf_path.joinpath(f'com_files')\n",
    "sdf_rdkit_files = glob.glob(f'{sdf_path}/*.sdf')\n",
    "\n",
    "# create COM files\n",
    "qprep(w_dir_main=sdf_path,destination=com_path,files=sdf_rdkit_files,program='gaussian',\n",
    "        qm_input='wb97xd/6-31+G* opt freq=noraman',mem='24GB',nprocs=12)"
   ]
  }
 ],
 "metadata": {
  "kernelspec": {
   "display_name": "Python ('cheminf')",
   "language": "python",
   "name": "python3"
  },
  "language_info": {
   "codemirror_mode": {
    "name": "ipython",
    "version": 3
   },
   "file_extension": ".py",
   "mimetype": "text/x-python",
   "name": "python",
   "nbconvert_exporter": "python",
   "pygments_lexer": "ipython3",
   "version": ""
  },
  "vscode": {
   "interpreter": {
    "hash": "6c100345108a7047ea96fae483cb64f49bdc23a8b225db90a5987a96959e820b"
   }
  }
 },
 "nbformat": 4,
 "nbformat_minor": 5
}
