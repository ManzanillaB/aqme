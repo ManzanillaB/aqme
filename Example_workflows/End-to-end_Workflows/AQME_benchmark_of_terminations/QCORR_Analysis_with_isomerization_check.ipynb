{
 "cells": [
  {
   "cell_type": "markdown",
   "id": "c3dc00b0",
   "metadata": {},
   "source": [
    "# Analysis of QM files"
   ]
  },
  {
   "cell_type": "markdown",
   "id": "011e4720",
   "metadata": {},
   "source": [
    "##### QCORR analysis including isomerization filter"
   ]
  },
  {
   "cell_type": "code",
   "execution_count": null,
   "id": "b597e302",
   "metadata": {},
   "outputs": [],
   "source": [
    "# QCORR analysis of Gaussian 16 output files including isomerization check and generation of json files\n",
    "import os\n",
    "from aqme.qcorr import qcorr\n",
    "\n",
    "w_dir_main=os.getcwd()\n",
    "\n",
    "# run the QCORR analyzer, with:\n",
    "# 1) Working directory (w_dir_main=w_dir_main)\n",
    "# 2) Names of the QM output files (files='*.log')\n",
    "# 3) Detect and fix calcs that converged during geometry optimization but didn't converge during frequency calcs (freq_conv='opt=(calcfc,maxstep=5)')\n",
    "# 4) Type of initial input files where the LOG files come from (isom_type='com')\n",
    "# 5) Folder with the initial input files (isom_inputs=w_dir_main)\n",
    "qcorr(w_dir_main=w_dir_main,files='*.log',freq_conv='opt=(calcfc,maxstep=5)',\n",
    "      isom_type='com',isom_inputs=w_dir_main)"
   ]
  }
 ],
 "metadata": {
  "kernelspec": {
   "display_name": "Python 3.9.12 ('cheminf')",
   "language": "python",
   "name": "python3"
  },
  "language_info": {
   "codemirror_mode": {
    "name": "ipython",
    "version": 3
   },
   "file_extension": ".py",
   "mimetype": "text/x-python",
   "name": "python",
   "nbconvert_exporter": "python",
   "pygments_lexer": "ipython3",
   "version": "3.9.12"
  },
  "vscode": {
   "interpreter": {
    "hash": "6fd74c72106078714e0fce224080d73d80ec6931ebd33b284a64c665ffc716e5"
   }
  }
 },
 "nbformat": 4,
 "nbformat_minor": 5
}
