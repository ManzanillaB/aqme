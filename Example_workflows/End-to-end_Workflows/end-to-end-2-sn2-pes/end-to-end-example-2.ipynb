{
 "cells": [
  {
   "cell_type": "markdown",
   "metadata": {},
   "source": [
    "# Example 2\n"
   ]
  },
  {
   "cell_type": "markdown",
   "metadata": {},
   "source": [
    "### Identifying the Reaction Pathway for a multi step SN2 Reaction"
   ]
  },
  {
   "cell_type": "markdown",
   "metadata": {},
   "source": [
    "This workflow includes:\n",
    "\n",
    "i) CREST conformer sampling,\\\n",
    "ii) Gaussian geometry optimization (B3LYP/def2tzvp),\\ \n",
    "iii) fixing errors and imaginary frequencies of the output files,\\\n",
    "iv) ORCA, single-point energy corrections (SPC) using DLPNO-CCSD(T)/cc-pV(DT)Z, and\\\n",
    "v) Boltzmann weighted thermochemistry calculation with GoodVibes at 298.15 K."
   ]
  },
  {
   "cell_type": "markdown",
   "metadata": {},
   "source": [
    "#### Steps involved in this example"
   ]
  },
  {
   "cell_type": "markdown",
   "metadata": {},
   "source": [
    "- Step 1: Import of AQME modules and necessary other python modules\n",
    "- Step 2: Determine the constraints for the mutli step TSs (TS1 and TS2)\n",
    "- Step 3: Creation of CSV with SMILES and constraints for TSs\n",
    "- Step 4: Running CSEARCH (crest) on the CSV\n",
    "- Step 5: Creation input files using QPREP \n",
    "    -  a. For TS with TS route line\n",
    "    -  b. For other species with ground state/ intermediates route line\n",
    "- Step 6: Run Gaussian calculations on HPC/or other computers where available\n",
    "- Step 7: Checking with QCORR for corrections\n",
    "- Step 8: Creation of DLPNO input files for ORCA single-point energy calculations\n",
    "- Step 9: Analysis with goodvibes"
   ]
  },
  {
   "cell_type": "markdown",
   "metadata": {},
   "source": [
    "###  Step 1: Import of AQME modules and necessary other python modules"
   ]
  },
  {
   "cell_type": "code",
   "execution_count": 1,
   "metadata": {},
   "outputs": [
    {
     "name": "stderr",
     "output_type": "stream",
     "text": [
      "[12:31:05] Enabling RDKit 2019.09.3 jupyter extensions\n",
      "RDKit WARNING: [12:31:05] Enabling RDKit 2019.09.3 jupyter extensions\n"
     ]
    }
   ],
   "source": [
    "import os, glob, subprocess\n",
    "import shutil\n",
    "from pathlib import Path\n",
    "from aqme.csearch import csearch\n",
    "from aqme.qprep import qprep\n",
    "from aqme.qcorr import qcorr\n",
    "from rdkit import Chem\n",
    "import pandas as pd"
   ]
  },
  {
   "cell_type": "markdown",
   "metadata": {},
   "source": [
    "### Step 2: Determine the constraints for the mutli step TSs (TS1 and TS2)"
   ]
  },
  {
   "cell_type": "code",
   "execution_count": 2,
   "metadata": {},
   "outputs": [
    {
     "name": "stdout",
     "output_type": "stream",
     "text": [
      "The new mapped smiles for checking numbers used in constraints is: C([Cl:1])([C:2]([C:3]([C:4]([H:12])([H:13])[H:14])([H:10])[H:11])([H:8])[H:9])([H:6])[H:7].[Br-:5]\n"
     ]
    }
   ],
   "source": [
    "smi1 = 'C(Cl)CCC.[Br-]'\n",
    "mol1 = Chem.MolFromSmiles(smi1)\n",
    "mol1 = Chem.AddHs(mol1)\n",
    "for i,atom in enumerate(mol1.GetAtoms()):\n",
    "    atom.SetAtomMapNum(i)\n",
    "smi_new1 = Chem.MolToSmiles(mol1)\n",
    "print('The new mapped smiles for checking numbers used in constraints is:', smi_new1)"
   ]
  },
  {
   "cell_type": "code",
   "execution_count": 3,
   "metadata": {},
   "outputs": [
    {
     "data": {
      "image/png": "[encoded data removed]",
      "text/plain": [
       "<rdkit.Chem.rdchem.Mol at 0x2af38c72b6c0>"
      ]
     },
     "execution_count": 3,
     "metadata": {},
     "output_type": "execute_result"
    }
   ],
   "source": [
    "mol1\n",
    "# distance and angle to fix are \n",
    "# constraits_dist = [[0,1,1.8],[0,5,2.1]]\n",
    "# constraits_angle = [[1,0,5,180]]"
   ]
  },
  {
   "cell_type": "code",
   "execution_count": 4,
   "metadata": {},
   "outputs": [
    {
     "name": "stdout",
     "output_type": "stream",
     "text": [
      "The new mapped smiles for checking numbers used in constraints is: C([Br:1])([C:2]([C:3]([C:4]([H:12])([H:13])[H:14])([H:10])[H:11])([H:8])[H:9])([H:6])[H:7].[I-:5]\n"
     ]
    }
   ],
   "source": [
    "smi2 = 'C(Br)CCC.[I-]'\n",
    "mol2 = Chem.MolFromSmiles(smi2)\n",
    "mol2 = Chem.AddHs(mol2)\n",
    "for i,atom in enumerate(mol2.GetAtoms()):\n",
    "    atom.SetAtomMapNum(i)\n",
    "smi_new2 = Chem.MolToSmiles(mol2)\n",
    "print('The new mapped smiles for checking numbers used in constraints is:', smi_new2)"
   ]
  },
  {
   "cell_type": "code",
   "execution_count": 6,
   "metadata": {},
   "outputs": [
    {
     "data": {
      "image/png": "[encoded data removed]",
      "text/plain": [
       "<rdkit.Chem.rdchem.Mol at 0x2af38c741620>"
      ]
     },
     "execution_count": 6,
     "metadata": {},
     "output_type": "execute_result"
    }
   ],
   "source": [
    "mol2\n",
    "# distance and angle to fix are \n",
    "# constraits_dist = [[0,1,2.6],[0,5,2.9]]\n",
    "# constraits_angle = [[1,0,5,180]]"
   ]
  },
  {
   "cell_type": "markdown",
   "metadata": {},
   "source": [
    "### Step 3: Creation of CSV with SMILES and constraints for TSs"
   ]
  },
  {
   "cell_type": "code",
   "execution_count": 10,
   "metadata": {},
   "outputs": [
    {
     "data": {
      "text/html": [
       "<div>\n",
       "<style scoped>\n",
       "    .dataframe tbody tr th:only-of-type {\n",
       "        vertical-align: middle;\n",
       "    }\n",
       "\n",
       "    .dataframe tbody tr th {\n",
       "        vertical-align: top;\n",
       "    }\n",
       "\n",
       "    .dataframe thead th {\n",
       "        text-align: right;\n",
       "    }\n",
       "</style>\n",
       "<table border=\"1\" class=\"dataframe\">\n",
       "  <thead>\n",
       "    <tr style=\"text-align: right;\">\n",
       "      <th></th>\n",
       "      <th>SMILES</th>\n",
       "      <th>code_name</th>\n",
       "      <th>constraints_dist</th>\n",
       "      <th>constraints_angle</th>\n",
       "    </tr>\n",
       "  </thead>\n",
       "  <tbody>\n",
       "    <tr>\n",
       "      <th>0</th>\n",
       "      <td>[Br-]</td>\n",
       "      <td>Reactant2</td>\n",
       "      <td>NaN</td>\n",
       "      <td>NaN</td>\n",
       "    </tr>\n",
       "    <tr>\n",
       "      <th>1</th>\n",
       "      <td>C(Cl)CCC</td>\n",
       "      <td>Reactant1</td>\n",
       "      <td>NaN</td>\n",
       "      <td>NaN</td>\n",
       "    </tr>\n",
       "    <tr>\n",
       "      <th>2</th>\n",
       "      <td>C([Cl:1])([C:2]([C:3]([C:4]([H:12])([H:13])[H:...</td>\n",
       "      <td>TS1_SN2</td>\n",
       "      <td>[[0,1,1.8],[0,5,2.1]]</td>\n",
       "      <td>[[1,0,5,180]]</td>\n",
       "    </tr>\n",
       "    <tr>\n",
       "      <th>3</th>\n",
       "      <td>[Cl-]</td>\n",
       "      <td>Int1</td>\n",
       "      <td>NaN</td>\n",
       "      <td>NaN</td>\n",
       "    </tr>\n",
       "    <tr>\n",
       "      <th>4</th>\n",
       "      <td>C(Br)CCC</td>\n",
       "      <td>Int2</td>\n",
       "      <td>NaN</td>\n",
       "      <td>NaN</td>\n",
       "    </tr>\n",
       "    <tr>\n",
       "      <th>5</th>\n",
       "      <td>[I-]</td>\n",
       "      <td>Reactant3</td>\n",
       "      <td>NaN</td>\n",
       "      <td>NaN</td>\n",
       "    </tr>\n",
       "    <tr>\n",
       "      <th>6</th>\n",
       "      <td>C([Br:1])([C:2]([C:3]([C:4]([H:12])([H:13])[H:...</td>\n",
       "      <td>TS2_SN2</td>\n",
       "      <td>[[0,1,2.6],[0,5,2.9]]</td>\n",
       "      <td>[[1,0,5,180]]</td>\n",
       "    </tr>\n",
       "    <tr>\n",
       "      <th>7</th>\n",
       "      <td>C(I)CCC</td>\n",
       "      <td>Product</td>\n",
       "      <td>NaN</td>\n",
       "      <td>NaN</td>\n",
       "    </tr>\n",
       "  </tbody>\n",
       "</table>\n",
       "</div>"
      ],
      "text/plain": [
       "                                              SMILES  code_name  \\\n",
       "0                                              [Br-]  Reactant2   \n",
       "1                                           C(Cl)CCC  Reactant1   \n",
       "2  C([Cl:1])([C:2]([C:3]([C:4]([H:12])([H:13])[H:...    TS1_SN2   \n",
       "3                                              [Cl-]       Int1   \n",
       "4                                           C(Br)CCC       Int2   \n",
       "5                                               [I-]  Reactant3   \n",
       "6  C([Br:1])([C:2]([C:3]([C:4]([H:12])([H:13])[H:...    TS2_SN2   \n",
       "7                                            C(I)CCC    Product   \n",
       "\n",
       "        constraints_dist constraints_angle  \n",
       "0                    NaN               NaN  \n",
       "1                    NaN               NaN  \n",
       "2  [[0,1,1.8],[0,5,2.1]]     [[1,0,5,180]]  \n",
       "3                    NaN               NaN  \n",
       "4                    NaN               NaN  \n",
       "5                    NaN               NaN  \n",
       "6  [[0,1,2.6],[0,5,2.9]]     [[1,0,5,180]]  \n",
       "7                    NaN               NaN  "
      ]
     },
     "execution_count": 10,
     "metadata": {},
     "output_type": "execute_result"
    }
   ],
   "source": [
    "data = pd.read_csv('example2.csv')\n",
    "data"
   ]
  },
  {
   "cell_type": "markdown",
   "metadata": {},
   "source": [
    "### Step 4: Running CSEARCH (crest) on the CSV"
   ]
  },
  {
   "cell_type": "code",
   "execution_count": 9,
   "metadata": {},
   "outputs": [],
   "source": [
    "# csearch(input='example2.csv',  program='crest', cregen=True, cregen_keywords='--ethr 0.1 --rthr 0.2 --bthr 0.3 --ewin 1')"
   ]
  },
  {
   "cell_type": "markdown",
   "metadata": {},
   "source": [
    "### Step 5: Creation input files using QPREP "
   ]
  },
  {
   "cell_type": "markdown",
   "metadata": {},
   "source": [
    "#### a. For TS with TS route line"
   ]
  },
  {
   "cell_type": "code",
   "execution_count": 11,
   "metadata": {},
   "outputs": [
    {
     "name": "stdout",
     "output_type": "stream",
     "text": [
      "o  TS1_SN2_crest successfully processed at /home/svss/Project-DBcg-Debug/aqme2_20220329/paper_examples_2/end-to-end-2-sn2-pes/QCALC\n",
      "\n",
      "o  TS2_SN2_crest successfully processed at /home/svss/Project-DBcg-Debug/aqme2_20220329/paper_examples_2/end-to-end-2-sn2-pes/QCALC\n",
      "\n"
     ]
    },
    {
     "data": {
      "text/plain": [
       "<aqme.qprep.qprep at 0x2af293251a50>"
      ]
     },
     "execution_count": 11,
     "metadata": {},
     "output_type": "execute_result"
    }
   ],
   "source": [
    "sdf_rdkit_files = ['CSEARCH/crest/TS1_SN2_crest.sdf','CSEARCH/crest/TS2_SN2_crest.sdf']\n",
    "\n",
    "program = 'gaussian'\n",
    "qm_input = 'B3LYP/def2tzvp opt=(ts,calcfc,noeigen) freq'\n",
    "mem='40GB'\n",
    "nprocs=36\n",
    "\n",
    "qprep(files=sdf_rdkit_files,program=program,qm_input=qm_input,mem=mem,nprocs=nprocs)\n",
    " "
   ]
  },
  {
   "cell_type": "code",
   "execution_count": 12,
   "metadata": {},
   "outputs": [
    {
     "name": "stdout",
     "output_type": "stream",
     "text": [
      "o  Int1_crest successfully processed at /home/svss/Project-DBcg-Debug/aqme2_20220329/paper_examples_2/end-to-end-2-sn2-pes/QCALC\n",
      "\n",
      "o  Int2_crest successfully processed at /home/svss/Project-DBcg-Debug/aqme2_20220329/paper_examples_2/end-to-end-2-sn2-pes/QCALC\n",
      "\n",
      "o  Product_crest successfully processed at /home/svss/Project-DBcg-Debug/aqme2_20220329/paper_examples_2/end-to-end-2-sn2-pes/QCALC\n",
      "\n",
      "o  Reactant1_crest successfully processed at /home/svss/Project-DBcg-Debug/aqme2_20220329/paper_examples_2/end-to-end-2-sn2-pes/QCALC\n",
      "\n",
      "o  Reactant2_crest successfully processed at /home/svss/Project-DBcg-Debug/aqme2_20220329/paper_examples_2/end-to-end-2-sn2-pes/QCALC\n",
      "\n",
      "o  Reactant3_crest successfully processed at /home/svss/Project-DBcg-Debug/aqme2_20220329/paper_examples_2/end-to-end-2-sn2-pes/QCALC\n",
      "\n"
     ]
    },
    {
     "data": {
      "text/plain": [
       "<aqme.qprep.qprep at 0x2af29325c3d0>"
      ]
     },
     "execution_count": 12,
     "metadata": {},
     "output_type": "execute_result"
    }
   ],
   "source": [
    "sdf_rdkit_files = ['CSEARCH/crest/Int1_crest.sdf', 'CSEARCH/crest/Int2_crest.sdf','CSEARCH/crest/Product_crest.sdf','CSEARCH/crest/Reactant1_crest.sdf', 'CSEARCH/crest/Reactant2_crest.sdf', 'CSEARCH/crest/Reactant3_crest.sdf']\n",
    "\n",
    "program = 'gaussian'\n",
    "qm_input = 'B3LYP/def2tzvp opt freq'\n",
    "mem='40GB'\n",
    "nprocs=36\n",
    "\n",
    "qprep(files=sdf_rdkit_files,program=program,qm_input=qm_input,mem=mem,nprocs=nprocs)"
   ]
  },
  {
   "cell_type": "markdown",
   "metadata": {},
   "source": [
    "### Step 6: Run Gaussian calculations on HPC/or other computers where available"
   ]
  },
  {
   "cell_type": "code",
   "execution_count": 13,
   "metadata": {},
   "outputs": [],
   "source": [
    "# run gaussian externally"
   ]
  },
  {
   "cell_type": "markdown",
   "metadata": {},
   "source": [
    "### Step 7: Checking with QCORR for corrections"
   ]
  },
  {
   "cell_type": "code",
   "execution_count": 16,
   "metadata": {},
   "outputs": [],
   "source": [
    "# qcorr(files='QCALC/*.log')"
   ]
  },
  {
   "cell_type": "markdown",
   "metadata": {},
   "source": [
    "### Step 8: creation of DLPNO input files for ORCA single-point energy calculations"
   ]
  },
  {
   "cell_type": "code",
   "execution_count": 17,
   "metadata": {},
   "outputs": [
    {
     "name": "stdout",
     "output_type": "stream",
     "text": [
      "o  Reactant1_crest_conf_3 successfully processed at /home/svss/Project-DBcg-Debug/aqme2_20220329/paper_examples_2/end-to-end-2-sn2-pes/SP\n",
      "\n",
      "o  Reactant1_crest_conf_4 successfully processed at /home/svss/Project-DBcg-Debug/aqme2_20220329/paper_examples_2/end-to-end-2-sn2-pes/SP\n",
      "\n",
      "o  Reactant2_crest_conf_1 successfully processed at /home/svss/Project-DBcg-Debug/aqme2_20220329/paper_examples_2/end-to-end-2-sn2-pes/SP\n",
      "\n",
      "o  Reactant3_crest_conf_1 successfully processed at /home/svss/Project-DBcg-Debug/aqme2_20220329/paper_examples_2/end-to-end-2-sn2-pes/SP\n",
      "\n",
      "o  TS1_SN2_crest_conf_1 successfully processed at /home/svss/Project-DBcg-Debug/aqme2_20220329/paper_examples_2/end-to-end-2-sn2-pes/SP\n",
      "\n",
      "o  TS2_SN2_crest_conf_2 successfully processed at /home/svss/Project-DBcg-Debug/aqme2_20220329/paper_examples_2/end-to-end-2-sn2-pes/SP\n",
      "\n",
      "o  Int2_crest_conf_4 successfully processed at /home/svss/Project-DBcg-Debug/aqme2_20220329/paper_examples_2/end-to-end-2-sn2-pes/SP\n",
      "\n",
      "o  Product_crest_conf_1 successfully processed at /home/svss/Project-DBcg-Debug/aqme2_20220329/paper_examples_2/end-to-end-2-sn2-pes/SP\n",
      "\n",
      "o  Reactant1_crest_conf_1 successfully processed at /home/svss/Project-DBcg-Debug/aqme2_20220329/paper_examples_2/end-to-end-2-sn2-pes/SP\n",
      "\n",
      "o  Reactant1_crest_conf_2 successfully processed at /home/svss/Project-DBcg-Debug/aqme2_20220329/paper_examples_2/end-to-end-2-sn2-pes/SP\n",
      "\n",
      "o  Int1_crest_conf_1 successfully processed at /home/svss/Project-DBcg-Debug/aqme2_20220329/paper_examples_2/end-to-end-2-sn2-pes/SP\n",
      "\n",
      "o  Int2_crest_conf_1 successfully processed at /home/svss/Project-DBcg-Debug/aqme2_20220329/paper_examples_2/end-to-end-2-sn2-pes/SP\n",
      "\n",
      "o  Int2_crest_conf_3 successfully processed at /home/svss/Project-DBcg-Debug/aqme2_20220329/paper_examples_2/end-to-end-2-sn2-pes/SP\n",
      "\n",
      "o  Product_crest_conf_2 successfully processed at /home/svss/Project-DBcg-Debug/aqme2_20220329/paper_examples_2/end-to-end-2-sn2-pes/SP\n",
      "\n",
      "o  Product_crest_conf_3 successfully processed at /home/svss/Project-DBcg-Debug/aqme2_20220329/paper_examples_2/end-to-end-2-sn2-pes/SP\n",
      "\n",
      "o  TS2_SN2_crest_conf_1 successfully processed at /home/svss/Project-DBcg-Debug/aqme2_20220329/paper_examples_2/end-to-end-2-sn2-pes/SP\n",
      "\n",
      "o  Int2_crest_conf_2 successfully processed at /home/svss/Project-DBcg-Debug/aqme2_20220329/paper_examples_2/end-to-end-2-sn2-pes/SP\n",
      "\n",
      "o  Product_crest_conf_4 successfully processed at /home/svss/Project-DBcg-Debug/aqme2_20220329/paper_examples_2/end-to-end-2-sn2-pes/SP\n",
      "\n"
     ]
    },
    {
     "data": {
      "text/plain": [
       "<aqme.qprep.qprep at 0x2af29326a890>"
      ]
     },
     "execution_count": 17,
     "metadata": {},
     "output_type": "execute_result"
    }
   ],
   "source": [
    "qm_files = os.getcwd()+'/QCALC/success/*.log'\n",
    "destination =  os.getcwd()+'/SP'\n",
    "\n",
    "program = 'orca'\n",
    "\n",
    "qm_input ='DLPNO-CCSD(T) def2-tzvpp def2-tzvpp/C\\n'\n",
    "qm_input += '%scf maxiter 500\\n'\n",
    "qm_input += 'end\\n'\n",
    "qm_input += '% mdci\\n'\n",
    "qm_input += 'Density None\\n'\n",
    "qm_input += 'end\\n'\n",
    "qm_input += '% elprop\\n'\n",
    "qm_input += 'Dipole False\\n'\n",
    "qm_input += 'end'\n",
    "mem='4GB'\n",
    "nprocs=8\n",
    "\n",
    "\n",
    "qprep(destination=destination,files=qm_files,program=program, qm_input=qm_input,mem=mem,nprocs=nprocs, suffix='DLPNO')"
   ]
  },
  {
   "cell_type": "markdown",
   "metadata": {},
   "source": [
    "### Step 9: Analysis with goodvibes"
   ]
  },
  {
   "cell_type": "code",
   "execution_count": 19,
   "metadata": {},
   "outputs": [
    {
     "name": "stdout",
     "output_type": "stream",
     "text": [
      "   GoodVibes v3.0.1 2022/07/05 16:13:46\n",
      "   REF: Luchini, G.; Alegre-Requena J. V.; Guan, Y.; Funes-Ardoiz, I.; Paton, R. S. (2019).\n",
      "        GoodVibes: GoodVibes 3.0.1 http://doi.org/10.5281/zenodo.595246\n",
      "   Requested: --xyz --pes ../pes.yaml --graph ../pes.yaml -c 1 --spc DLPNO \n",
      "\n",
      "   Temperature = 298.15 Kelvin   Concentration = 1.0 mol/l\n",
      "   All energetic values below shown in Hartree unless otherwise specified.\n",
      "\n",
      "o  Found vibrational scaling factor of 0.985 for B3LYP/def2TZVP level of theory\n",
      "   REF: I. M. Alecu, unpublished (2011).\n",
      "\n",
      "   Entropic quasi-harmonic treatment: frequency cut-off value of 100.0 wavenumbers will be applied.\n",
      "   QS = Grimme: Using a mixture of RRHO and Free-rotor vibrational entropies.\n",
      "   REF: Grimme, S. Chem. Eur. J. 2012, 18, 9955-9964\n",
      "\n",
      "\n",
      "   Structure                                       E_SPC             E        ZPE         H_SPC        T.S     T.qh-S      G(T)_SPC   qh-G(T)_SPC\n",
      "   **********************************************************************************************************************************************\n",
      "o  Reactant1_crest_conf_3                    -617.283383   -618.145950   0.121411   -617.154283   0.035632   0.035391   -617.189915   -617.189674\n",
      "o  Reactant1_crest_conf_4                    -617.283589   -618.145785   0.121438   -617.154582   0.035423   0.035109   -617.190005   -617.189692\n",
      "o  Reactant2_crest_conf_1                   -2572.775919  -2574.264150   0.000000  -2572.773558   0.015517   0.015517  -2572.789075  -2572.789075\n",
      "o  Reactant3_crest_conf_1                    -297.221338   -297.896556   0.000000   -297.218977   0.016190   0.016190   -297.235167   -297.235167\n",
      "o  TS1_SN2_crest_conf_1                     -3190.046159  -3192.403911   0.120025  -3189.916502   0.042917   0.041894  -3189.959419  -3189.958395\n",
      "o  TS2_SN2_crest_conf_2                     -3027.469494  -3029.990747   0.119528  -3027.340140   0.044787   0.043573  -3027.384927  -3027.383713\n",
      "o  Int2_crest_conf_4                        -2730.263426  -2732.101664   0.120835  -2730.134859   0.036752   0.036362  -2730.171611  -2730.171221\n",
      "o  Product_crest_conf_1                      -454.694155   -455.718682   0.120400   -454.565828   0.037870   0.037421   -454.603699   -454.603249\n",
      "o  Reactant1_crest_conf_1                    -617.283280   -618.144748   0.121624   -617.154162   0.035364   0.034870   -617.189526   -617.189032\n",
      "o  Reactant1_crest_conf_2                    -617.282463   -618.144502   0.121502   -617.153316   0.035634   0.035274   -617.188951   -617.188590\n",
      "o  Int1_crest_conf_1                         -459.777655   -460.288861   0.000000   -459.775294   0.014364   0.014364   -459.789659   -459.789659\n",
      "o  Int2_crest_conf_1                        -2730.262442  -2732.100556   0.120923  -2730.133707   0.036949   0.036533  -2730.170656  -2730.170240\n",
      "o  Int2_crest_conf_3                        -2730.263379  -2732.102000   0.120829  -2730.134689   0.036961   0.036673  -2730.171650  -2730.171362\n",
      "o  Product_crest_conf_2                      -454.694804   -455.718547   0.120473   -454.566573   0.037544   0.036990   -454.604117   -454.603562\n",
      "o  Product_crest_conf_3                      -454.695299   -455.720126   0.120303   -454.567017   0.037894   0.037570   -454.604911   -454.604587\n",
      "o  TS2_SN2_crest_conf_1                     -3027.471145  -3029.993234   0.119470  -3027.341808   0.045155   0.043810  -3027.386964  -3027.385618\n",
      "o  Int2_crest_conf_2                        -2730.263165  -2732.100642   0.121015  -2730.134500   0.036657   0.036112  -2730.171157  -2730.170612\n",
      "o  Product_crest_conf_4                      -454.695172   -455.719560   0.120298   -454.567030   0.037679   0.037242   -454.604709   -454.604272\n",
      "   **********************************************************************************************************************************************\n",
      "\n",
      "   Gconf correction requested to be applied to below relative values using quasi-harmonic Boltzmann factors\n",
      "\n",
      "   RXN: Reaction (kcal/mol)                       DE_SPC            DE       DZPE        DH_SPC       T.DS    T.qh-DS      DG(T)_SPC   qh-DG(T)_SPC\n",
      "   **********************************************************************************************************************************************\n",
      "o  R1+R2+R3                                          0.0           0.0        0.0           0.0        0.0        0.0           0.0           0.0\n",
      "o  TS1+R3                                            8.2           3.6       -0.9           7.1       -5.9       -6.3          13.0          13.4\n",
      "o  Int1+Int2+R3                                     11.5          12.1       -0.4          11.2        0.1        0.1          11.1          11.2\n",
      "o  TS2+Int1                                         20.1          15.3       -1.3          18.8       -5.4       -6.0          24.2          24.8\n",
      "o  product+Int1+R2                                  20.1          21.1       -0.7          19.5        0.2        0.2          19.3          19.3\n",
      "   **********************************************************************************************************************************************\n",
      "\n",
      "   Graphing Reaction Profile\n",
      "Figure(640x480)\n"
     ]
    }
   ],
   "source": [
    "qm_files = os.getcwd()+'/QCALC/success/*.log'\n",
    "orca_files = os.getcwd()+'/SP/*.out'\n",
    "\n",
    "opt_files = glob.glob(qm_files)\n",
    "spc_files = glob.glob(orca_files)\n",
    "all_files = opt_files + spc_files\n",
    "\n",
    "w_dir_main  = Path(os.getcwd())\n",
    "GV_folder = w_dir_main.joinpath('GoodVibes_analysis')\n",
    "GV_folder.mkdir(exist_ok=True, parents=True)\n",
    "\n",
    "for file in all_files:\n",
    "\tshutil.copy(file, GV_folder)\n",
    "\n",
    "os.chdir(GV_folder)\n",
    "subprocess.run(['python', '-m', 'goodvibes', '--xyz','--pes', '../pes.yaml','--graph','../pes.yaml','-c','1','--spc', 'DLPNO', '*.log',])\n",
    "\n",
    "os.chdir(w_dir_main)"
   ]
  },
  {
   "cell_type": "code",
   "execution_count": 37,
   "metadata": {},
   "outputs": [],
   "source": []
  },
  {
   "cell_type": "code",
   "execution_count": null,
   "metadata": {},
   "outputs": [],
   "source": []
  }
 ],
 "metadata": {
  "kernelspec": {
   "display_name": "Python [conda env:svss-bm]",
   "language": "python",
   "name": "conda-env-svss-bm-py"
  },
  "language_info": {
   "codemirror_mode": {
    "name": "ipython",
    "version": 3
   },
   "file_extension": ".py",
   "mimetype": "text/x-python",
   "name": "python",
   "nbconvert_exporter": "python",
   "pygments_lexer": "ipython3",
   "version": "3.7.4"
  }
 },
 "nbformat": 4,
 "nbformat_minor": 5
}
