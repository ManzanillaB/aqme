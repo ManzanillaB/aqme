{
 "cells": [
  {
   "cell_type": "markdown",
   "id": "549eb9b2-d648-423d-bef9-39a3e9449e44",
   "metadata": {},
   "source": [
    "#### Reactions processing with AQME - substrates + TS\n"
   ]
  },
  {
   "cell_type": "code",
   "execution_count": null,
   "id": "58b2985f-e26e-4caa-ba8b-acae66c72936",
   "metadata": {},
   "outputs": [],
   "source": [
    "# cell with import, system name and PATHs\n",
    "import os, glob, subprocess\n",
    "import shutil\n",
    "from pathlib import Path\n",
    "from aqme.csearch import csearch\n",
    "from aqme.qprep import qprep\n",
    "from aqme.qcorr import qcorr\n",
    "from rdkit import Chem\n",
    "import pandas as pd"
   ]
  },
  {
   "cell_type": "markdown",
   "id": "1a8c8e7b-33f5-4bdd-86c1-55bb78d87ad9",
   "metadata": {},
   "source": [
    "###### Step 1: Determining the constraints for SN2 TS"
   ]
  },
  {
   "cell_type": "code",
   "execution_count": null,
   "id": "cc18671e-9301-4a5e-9483-a2b794af3989",
   "metadata": {},
   "outputs": [],
   "source": [
    "# Provide the TS smiles to detemine the numbering for constraints\n",
    "smi = 'C(C)(F)C.[OH-]'\n",
    "mol = Chem.MolFromSmiles(smi)\n",
    "mol = Chem.AddHs(mol)\n",
    "for i,atom in enumerate(mol.GetAtoms()):\n",
    "    atom.SetAtomMapNum(i)\n",
    "smi_new = Chem.MolToSmiles(mol)\n",
    "print(smi_new)"
   ]
  },
  {
   "cell_type": "code",
   "execution_count": null,
   "id": "fd31f8a6-3391-4f91-af10-312ab8e4e7bb",
   "metadata": {},
   "outputs": [],
   "source": [
    "mol\n",
    "# distance and angle to fix are \n",
    "# constraits_dist = [[0,2,1.8],[0,4,1.8]]\n",
    "# constraits_angle = [[2,0,4,180]]"
   ]
  },
  {
   "cell_type": "markdown",
   "id": "50681e23-e360-4ef5-b973-64dc7dc9e283",
   "metadata": {},
   "source": [
    "###### Step 2: Create a CSV as follows"
   ]
  },
  {
   "cell_type": "code",
   "execution_count": null,
   "id": "940d525c-1e4e-426c-8ce3-1a05992ab0ef",
   "metadata": {},
   "outputs": [],
   "source": [
    "data = pd.read_csv('example2.csv')\n",
    "data"
   ]
  },
  {
   "cell_type": "markdown",
   "id": "de74f1b1-b4de-4b6f-ac2c-720d7a4592f6",
   "metadata": {},
   "source": [
    "###### Step 3: Running CSEARCH on the CSV"
   ]
  },
  {
   "cell_type": "code",
   "execution_count": null,
   "id": "68d3416f-5079-4fa1-8a69-6be913707d7b",
   "metadata": {},
   "outputs": [],
   "source": [
    "# run CSEARCH conformational sampling, specifying:\n",
    "\n",
    "# choose program for conformer sampling\n",
    "# 1) RDKit ('rdkit'): Fast sampling, only works for systems with one molecule\n",
    "# 2) CREST ('crest'): Slower sampling, works for noncovalent complexes and \n",
    "# transition structures (see example of TS in the CSEARCH_CREST_TS.ipynb notebook\n",
    "#  from the CSEARCH_CMIN_conformer_generation folder)\n",
    "\n",
    "# 3) Program for conformer sampling (program=program)\n",
    "# 4) SMILES string (smi=smi)\n",
    "# 5) Name for the output SDF files (name=name)\n",
    "# 6) Include CREGEN post-analysis for CREST sampling (cregen=True)\n",
    "csearch(input='example2.csv',  program='crest', cregen=True, cregen_keywords='--ethr 0.1 --rthr 0.2 --bthr 0.3 --ewin 1')"
   ]
  },
  {
   "cell_type": "markdown",
   "id": "5d87ae39-8c2d-467a-b2c8-8bd7d00bdd04",
   "metadata": {},
   "source": [
    "###### Step 4: Create input files using QPREP \n",
    "\n",
    "###### a. for TS with TS keywords\n",
    "###### b. for substrates with substrate keywords"
   ]
  },
  {
   "cell_type": "code",
   "execution_count": null,
   "id": "ec051e14-62df-4c2c-b9ab-fce2a6d4b17b",
   "metadata": {},
   "outputs": [],
   "source": [
    "# set SDF filenames and directory where the new com files will be created\n",
    "sdf_rdkit_files = ['CSEARCH/crest/TS_SN2_crest.sdf']\n",
    "\n",
    "# choose program for input file generation, with the corresponding keywords line, memory and processors:\n",
    "# 1) Gaussian ('gaussian')\n",
    "program = 'gaussian'\n",
    "qm_input = 'B3LYP/6-31G(d) opt=(ts,calcfc,noeigen) freq'\n",
    "mem='40GB'\n",
    "nprocs=36\n",
    "\n",
    "# run QPREP input files generator, with:\n",
    "# 1) Working directory (w_dir_main=sdf_path)\n",
    "# 2) PATH to create the new SDF files (destination=com_path)\n",
    "# 3) Files to convert (files=sdf_rdkit_files)\n",
    "# 4) QM program for the input (program=program)\n",
    "# 5) Keyword line for the Gaussian inputs (qm_input=qm_input)\n",
    "# 6) Memory to use in the calculations (mem='24GB')\n",
    "# 7) Processors to use in the calcs (nprocs=8)\n",
    "qprep(files=sdf_rdkit_files,program=program,\n",
    "        qm_input=qm_input,mem=mem,nprocs=nprocs)\n",
    " "
   ]
  },
  {
   "cell_type": "code",
   "execution_count": null,
   "id": "cdfdf6f6-7a9b-4328-9d1f-bbc7614010fa",
   "metadata": {},
   "outputs": [],
   "source": [
    "# set SDF filenames and directory where the new com files will be created\n",
    "sdf_rdkit_files = ['CSEARCH/crest/F_crest.sdf', 'CSEARCH/crest/O_anion_crest.sdf']\n",
    "\n",
    "# choose program for input file generation, with the corresponding keywords line, memory and processors:\n",
    "# 1) Gaussian ('gaussian')\n",
    "program = 'gaussian'\n",
    "qm_input = 'B3LYP/6-31G(d) opt freq'\n",
    "mem='40GB'\n",
    "nprocs=36\n",
    "\n",
    "# run QPREP input files generator, with:\n",
    "# 1) Working directory (w_dir_main=sdf_path)\n",
    "# 2) PATH to create the new SDF files (destination=com_path)\n",
    "# 3) Files to convert (files=sdf_rdkit_files)\n",
    "# 4) QM program for the input (program=program)\n",
    "# 5) Keyword line for the Gaussian inputs (qm_input=qm_input)\n",
    "# 6) Memory to use in the calculations (mem='24GB')\n",
    "# 7) Processors to use in the calcs (nprocs=8)\n",
    "qprep(files=sdf_rdkit_files,program=program,\n",
    "        qm_input=qm_input,mem=mem,nprocs=nprocs)"
   ]
  },
  {
   "cell_type": "markdown",
   "id": "d7cd52ba-288e-4484-b75d-293556a0cffa",
   "metadata": {},
   "source": [
    "###### Step 5: Checking with QPREP for corrections"
   ]
  },
  {
   "cell_type": "code",
   "execution_count": null,
   "id": "2f83d75c-44f7-4abc-9700-7fca67bc368c",
   "metadata": {},
   "outputs": [],
   "source": [
    "w_dir_main=os.getcwd()+'/QCALC'\n",
    "\n",
    "# run the QCORR analyzer, with:\n",
    "# 1) Working directory (w_dir_main=com_path)\n",
    "# 2) Names of the QM output files (files='*.log')\n",
    "# 3) Detect and fix calcs that converged during geometry optimization but didn't converge during frequency calcs (freq_conv='opt=(calcfc,maxstep=5)')\n",
    "# 4) Type of initial input files where the LOG files come from (isom_type='com')\n",
    "# 5) Folder with the initial input files (isom_inputs=com_path)\n",
    "\n",
    "qcorr(w_dir_main=w_dir_main,files='*.log',freq_conv='opt=(calcfc,maxstep=5)')"
   ]
  },
  {
   "cell_type": "markdown",
   "id": "6ff4af53-da34-4e33-bd2a-3004703f538d",
   "metadata": {},
   "source": [
    "###### Step 6: creation of DLPNO input files for ORCA single-point energy calculations"
   ]
  },
  {
   "cell_type": "code",
   "execution_count": null,
   "id": "ebc8cd0b-77da-4719-b0b2-fa552852fd85",
   "metadata": {},
   "outputs": [],
   "source": [
    "# choose output files to get atoms and coordinates to generate inputs for single-point energy calculations\n",
    "success_dir = os.getcwd()+'/QCALC/successful_QM_outputs'\n",
    "qm_files = '*.log'\n",
    "\n",
    "# choose program for input file generation with QPREP, with the corresponding keywords line, memory and processors:\n",
    "\n",
    "# 1) ORCA ('orca')\n",
    "program = 'orca'\n",
    "# a DLPNO example keywords line for ORCA calculations\n",
    "# qm_input = 'Extrapolate(2/3,cc) def2/J cc-pVTZ/C DLPNO-CCSD(T) NormalPNO TightSCF RIJCOSX\\n'\n",
    "qm_input ='DLPNO-CCSD(T) def2-tzvpp def2-tzvpp/C\\n'\n",
    "qm_input += '%scf maxiter 500\\n'\n",
    "qm_input += 'end\\n'\n",
    "qm_input += '% mdci\\n'\n",
    "qm_input += 'Density None\\n'\n",
    "qm_input += 'end\\n'\n",
    "qm_input += '% elprop\\n'\n",
    "qm_input += 'Dipole False\\n'\n",
    "qm_input += 'end'\n",
    "mem='4GB'\n",
    "nprocs=8\n",
    "\n",
    "# run QPREP input files generator, with:\n",
    "# 1) Working directory (w_dir_main=sdf_path)\n",
    "# 2) PATH to create the new SDF files (destination=com_path)\n",
    "# 3) Files to convert (files=sdf_rdkit_files)\n",
    "# 4) QM program for the input (program=program)\n",
    "# 5) Keyword line for the Gaussian inputs (qm_input=qm_input)\n",
    "# 6) Memory to use in the calculations (mem='24GB')\n",
    "# 7) Processors to use in the calcs (nprocs=8)\n",
    "\n",
    "qprep(w_dir_main=success_dir,destination=success_dir,files=qm_files,program=program,\n",
    "        qm_input=qm_input,mem=mem,nprocs=nprocs, suffix='DLPNO')"
   ]
  },
  {
   "cell_type": "markdown",
   "id": "66501efe-45b6-4ac5-a61f-5448a5bb71cb",
   "metadata": {},
   "source": [
    "###### Step 7: Analysis with goodvibes"
   ]
  },
  {
   "cell_type": "code",
   "execution_count": null,
   "id": "ac5b1667-3bc9-4d18-8ab5-4d84211d5ef7",
   "metadata": {},
   "outputs": [],
   "source": [
    "# track all the output files from Gaussian and ORCA\n",
    "opt_files = glob.glob(f'{success_dir}/*.log')\n",
    "spc_files = glob.glob(f'{success_dir}/*.out')\n",
    "all_files = opt_files + spc_files\n",
    "\n",
    "# move all the output files together to a folder called \"GoodVibes_analysis\" for simplicity\n",
    "w_dir_main  = Path(os.getcwd())\n",
    "GV_folder = w_dir_main.joinpath('GoodVibes_analysis')\n",
    "GV_folder.mkdir(exist_ok=True, parents=True)\n",
    "\n",
    "for file in all_files:\n",
    "\tshutil.copy(file, GV_folder)\n",
    "\n",
    "# this commands runs GoodVibes, including the population % of each conformer \n",
    "# (final results in the GoodVibes.out file)\n",
    "os.chdir(GV_folder)\n",
    "subprocess.run(['python', '-m', 'goodvibes', '--xyz','--pes', '../pes.yaml','--graph','../pes.yaml', '--spc', 'DLPNO', '*.log',])\n",
    "os.chdir(w_dir_main)"
   ]
  },
  {
   "cell_type": "code",
   "execution_count": null,
   "id": "da9dc137-19bf-4d54-895f-6df29b9a6cd4",
   "metadata": {},
   "outputs": [],
   "source": []
  },
  {
   "cell_type": "code",
   "execution_count": null,
   "id": "e828c72e-e4e0-498e-96be-8b7d2dd60812",
   "metadata": {},
   "outputs": [],
   "source": []
  }
 ],
 "metadata": {
  "kernelspec": {
   "display_name": "bm",
   "language": "python",
   "name": "bm"
  },
  "language_info": {
   "codemirror_mode": {
    "name": "ipython",
    "version": 3
   },
   "file_extension": ".py",
   "mimetype": "text/x-python",
   "name": "python",
   "nbconvert_exporter": "python",
   "pygments_lexer": "ipython3",
   "version": "3.7.4"
  }
 },
 "nbformat": 4,
 "nbformat_minor": 5
}
