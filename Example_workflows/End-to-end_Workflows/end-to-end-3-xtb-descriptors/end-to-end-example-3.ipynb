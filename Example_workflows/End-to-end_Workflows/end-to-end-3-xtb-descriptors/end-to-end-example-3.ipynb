{
 "cells": [
  {
   "cell_type": "markdown",
   "id": "d733fcd5-fafc-4797-be46-fc9c5f23d9ab",
   "metadata": {},
   "source": [
    "#### QDESCP produces xtb properties for a set of SMILES in a CSV\n"
   ]
  },
  {
   "cell_type": "markdown",
   "id": "f870a034-bbe9-40e7-8b08-2f72e57acb13",
   "metadata": {},
   "source": [
    "###### Step 1: CSEARCH to produce SDF files"
   ]
  },
  {
   "cell_type": "code",
   "execution_count": null,
   "id": "15c32915-2f22-4915-a852-1c7bcf635495",
   "metadata": {},
   "outputs": [],
   "source": [
    "import os, glob\n",
    "from pathlib import Path\n",
    "from aqme.csearch import csearch\n",
    "from aqme.qdescp import qdescp\n",
    "\n",
    "# set working directory, SDF creation folder, name and SMILES string\n",
    "name = 'test'\n",
    "file = 'test.csv'\n",
    "w_dir_main = Path(os.getcwd())\n",
    "sdf_path = w_dir_main.joinpath(name)\n",
    "\n",
    "# run CSEARCH conformational sampling, specifying:\n",
    "# 1) Working directory (w_dir_main=w_dir_main)\n",
    "# 2) PATH to create the new SDF files (destination=sdf_path)\n",
    "# 3) RDKit sampling (program='rdkit')\n",
    "# 4) SMILES string (smi=smi)\n",
    "# 5) Name for the output SDF files (name=name)\n",
    "csearch(w_dir_main=w_dir_main,destination=sdf_path,\n",
    "        program='rdkit',input=file)"
   ]
  },
  {
   "cell_type": "markdown",
   "id": "e7696ea7-6fae-4802-9a2a-5e32647bcc0c",
   "metadata": {},
   "source": [
    "###### Step 2 : QDESCP to produces properties"
   ]
  },
  {
   "cell_type": "code",
   "execution_count": null,
   "id": "4285cc7c-956f-4f6f-a92d-66d17557c824",
   "metadata": {},
   "outputs": [],
   "source": [
    "# set SDF filenames and directory where the new com files will be created\n",
    "qdescp_path = w_dir_main.joinpath(f'qdescp_files')\n",
    "sdf_rdkit_files = glob.glob(f'{sdf_path}/*.sdf')\n",
    "\n",
    "# run QDESCP input files generator, with:\n",
    "# 1) Working directory (w_dir_main=sdf_path)\n",
    "# 2) PATH to create the new SDF files (destination=qdescp_path)\n",
    "# 3) Files to run (files=sdf_rdkit_files)\n",
    "qdescp(w_dir_main=w_dir_main,destination=qdescp_path,files=sdf_rdkit_files,boltz=True,program='xtb')\n",
    " "
   ]
  },
  {
   "cell_type": "code",
   "execution_count": null,
   "id": "d9b61d6b-b63d-4f93-b80a-374a19bd049d",
   "metadata": {},
   "outputs": [],
   "source": []
  }
 ],
 "metadata": {
  "kernelspec": {
   "display_name": "bm",
   "language": "python",
   "name": "bm"
  },
  "language_info": {
   "codemirror_mode": {
    "name": "ipython",
    "version": 3
   },
   "file_extension": ".py",
   "mimetype": "text/x-python",
   "name": "python",
   "nbconvert_exporter": "python",
   "pygments_lexer": "ipython3",
   "version": "3.7.4"
  }
 },
 "nbformat": 4,
 "nbformat_minor": 5
}
