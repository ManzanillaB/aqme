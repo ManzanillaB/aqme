{
 "cells": [
  {
   "cell_type": "markdown",
   "id": "4ad51459",
   "metadata": {},
   "source": [
    "### End-to-end workflow to calculate conformer proportions of strychnine with AQME from SMILES"
   ]
  },
  {
   "cell_type": "code",
   "execution_count": null,
   "id": "709ce1f0",
   "metadata": {},
   "outputs": [],
   "source": [
    "import os, glob, subprocess\n",
    "from pathlib import Path \n",
    "import shutil\n",
    "from aqme.csearch import csearch\n",
    "from aqme.qprep import qprep\n",
    "from aqme.qcorr import qcorr"
   ]
  },
  {
   "cell_type": "markdown",
   "id": "76aa65c9",
   "metadata": {},
   "source": [
    "###### Step 1: CSEARCH conformational sampling (creates SDF files)"
   ]
  },
  {
   "cell_type": "code",
   "execution_count": null,
   "id": "ca2324a4",
   "metadata": {},
   "outputs": [],
   "source": [
    "# system name\n",
    "name = 'Strychnine'\n",
    "# set working directory and SMILES string\n",
    "smi = 'C1CN2CC3=CCO[C@H]4CC(=O)N5[C@H]6[C@H]4[C@H]3C[C@H]2[C@@]61C7=CC=CC=C75'\n",
    "\n",
    "# PATHs\n",
    "w_dir_main = Path(os.getcwd())\n",
    "sdf_path = w_dir_main.joinpath(f'{name}_sdf-files')\n",
    "\n",
    "# choose program for conformer sampling\n",
    "# 1) RDKit ('rdkit'): Fast sampling, only works for systems with one molecule\n",
    "# 2) CREST ('crest'): Slower sampling, works for noncovalent complexes and \n",
    "# transition structures (see example of TS in the CSEARCH_CREST_TS.ipynb notebook\n",
    "#  from the CSEARCH_CMIN_conformer_generation folder)\n",
    "program = 'rdkit'\n",
    "\n",
    "# run CSEARCH conformational sampling, specifying:\n",
    "# 1) Working directory (w_dir_main)\n",
    "# 2) PATH to create the new SDF files (destination)\n",
    "# 3) Program for conformer sampling (program)\n",
    "# 4) SMILES string (smi)\n",
    "# 5) Name for the output SDF files (name)\n",
    "csearch(w_dir_main=w_dir_main,destination=sdf_path,\n",
    "        program=program,smi=smi,name=name)"
   ]
  },
  {
   "cell_type": "markdown",
   "id": "c70d7dbf",
   "metadata": {},
   "source": [
    "###### Step 2: Writing Gaussian input files with the SDF obtained from CSEARCH"
   ]
  },
  {
   "cell_type": "code",
   "execution_count": null,
   "id": "d53a6f6f",
   "metadata": {},
   "outputs": [],
   "source": [
    "# set SDF filenames and directory where the new com files will be created\n",
    "sdf_rdkit_files = glob.glob(f'{sdf_path}/*.sdf')\n",
    "com_path = w_dir_main.joinpath(f'{name}_com-files')\n",
    "\n",
    "# choose program for input file generation, with the corresponding keywords line, memory and processors:\n",
    "# 1) Gaussian ('gaussian')\n",
    "# 2) ORCA ('orca')\n",
    "program = 'gaussian'\n",
    "qm_input = 'wB97xd/def2TZVPP scrf=(solvent=chloroform,smd) opt freq'\n",
    "mem='24GB'\n",
    "nprocs=12\n",
    "\n",
    "# run QPREP input files generator, with:\n",
    "# 1) Working directory (w_dir_main)\n",
    "# 2) PATH to create the new SDF files (destination)\n",
    "# 3) Files to convert (files)\n",
    "# 4) QM program for the input (program)\n",
    "# 5) Keyword line for the Gaussian inputs (qm_input)\n",
    "# 6) Memory to use in the calculations (mem)\n",
    "# 7) Processors to use in the calcs (nprocs)\n",
    "qprep(w_dir_main=sdf_path,destination=com_path,files=sdf_rdkit_files,program=program,\n",
    "        qm_input=qm_input,mem=mem,nprocs=nprocs)\n",
    " "
   ]
  },
  {
   "cell_type": "markdown",
   "id": "72062080",
   "metadata": {},
   "source": [
    "###### Step 3: run the input files with the command line you normally use"
   ]
  },
  {
   "cell_type": "code",
   "execution_count": null,
   "id": "cbdb5c3a",
   "metadata": {},
   "outputs": [],
   "source": [
    "# move to the folder with the input files\n",
    "os.chdir(com_path)\n",
    "\n",
    "# files to submit\n",
    "input_files = '*.com'\n",
    "\n",
    "# submit to the HPC or local computer\n",
    "command = ['qsub', '*.com']\n",
    "subprocess.run(command)\n",
    "\n",
    "# returns to working dir\n",
    "os.chdir(w_dir_main)"
   ]
  },
  {
   "cell_type": "markdown",
   "id": "7a4564f0",
   "metadata": {},
   "source": [
    "###### Step 4: QCORR analysis including isomerization filter"
   ]
  },
  {
   "cell_type": "code",
   "execution_count": null,
   "id": "aa038ef9",
   "metadata": {},
   "outputs": [],
   "source": [
    "# run the QCORR analyzer, with:\n",
    "# 1) Working directory (w_dir_main)\n",
    "# 2) Names of the QM output files (files)\n",
    "# 3) Detect and fix calcs that converged during geometry optimization but didn't converge during frequency calcs (freq_conv)\n",
    "# 4) Type of initial input files where the LOG files come from (isom_type)\n",
    "# 5) Folder with the initial input files (isom_inputs)\n",
    "qcorr(w_dir_main=com_path,files='*.log',freq_conv='opt=(calcfc,maxstep=5)',\n",
    "      isom_type='com',isom_inputs=com_path, nprocs=24, mem='96GB')"
   ]
  },
  {
   "cell_type": "markdown",
   "id": "e6949af6",
   "metadata": {},
   "source": [
    "###### Step 5: resubmission of unsuccessful calculations with suggestions from AQME (if any)"
   ]
  },
  {
   "cell_type": "code",
   "execution_count": null,
   "id": "c496424d",
   "metadata": {},
   "outputs": [],
   "source": [
    "# move to the folder with the input files\n",
    "fixed_inp_folder = com_path.joinpath('unsuccessful_QM_outputs/run_1/fixed_QM_inputs')\n",
    "os.chdir(fixed_inp_folder)\n",
    "\n",
    "# files to submit\n",
    "input_files = '*.com'\n",
    "\n",
    "# submit to the HPC or local computer\n",
    "command = ['qsub', '*.com']\n",
    "subprocess.run(command)\n",
    "\n",
    "# returns to working dir\n",
    "os.chdir(w_dir_main)"
   ]
  },
  {
   "cell_type": "markdown",
   "id": "3dfd4e37",
   "metadata": {},
   "source": [
    "###### Step 6: analyze the new jobs (if any)"
   ]
  },
  {
   "cell_type": "code",
   "execution_count": null,
   "id": "4d28133b",
   "metadata": {},
   "outputs": [],
   "source": [
    "# type of files to analize with QCORR\n",
    "qm_files = '*.log'\n",
    "\n",
    "# run the QCORR analyzer, with:\n",
    "# 1) Working directory (w_dir_main)\n",
    "# 2) Names of the QM output files (files)\n",
    "# 3) Detect and fix calcs that converged during geometry optimization but didn't converge during frequency calcs (freq_conv)\n",
    "# 4) Type of initial input files where the LOG files come from (isom)\n",
    "# 5) Folder with the initial input files (isom_inputs)\n",
    "qcorr(w_dir_main=fixed_inp_folder,files='*.log',freq_conv='opt=(calcfc,maxstep=5)',\n",
    "      isom='com',isom_inputs=fixed_inp_folder,nprocs=24, mem='96GB')"
   ]
  },
  {
   "cell_type": "markdown",
   "id": "c1a9571e",
   "metadata": {},
   "source": [
    "###### Step 8: calculate population distribution with GoodVibes"
   ]
  },
  {
   "cell_type": "code",
   "execution_count": null,
   "id": "15946d7e",
   "metadata": {},
   "outputs": [],
   "source": [
    "# track all the output files from Gaussian\n",
    "success_dir = com_path.joinpath('successful_QM_outputs')\n",
    "opt_files = glob.glob(f'{success_dir}/*.log')\n",
    "\n",
    "# move all the output files together to a folder called \"GoodVibes_analysis\" for simplicity\n",
    "GV_folder = w_dir_main.joinpath('GoodVibes_analysis')\n",
    "GV_folder.mkdir(exist_ok=True, parents=True)\n",
    "\n",
    "for file in opt_files:\n",
    "\tshutil.copy(file, GV_folder)\n",
    "\n",
    "# this commands runs GoodVibes, including the population % of each conformer \n",
    "# (final results in the GoodVibes.out file)\n",
    "os.chdir(GV_folder)\n",
    "subprocess.run(['python', '-m', 'goodvibes', '--boltz', '--xyz', '*.log'])\n",
    "os.chdir(w_dir_main)"
   ]
  },
  {
   "cell_type": "code",
   "execution_count": null,
   "id": "4e7d3940-1e33-4348-bf47-cd6fd38c194b",
   "metadata": {},
   "outputs": [],
   "source": []
  }
 ],
 "metadata": {
  "interpreter": {
   "hash": "8aa3fe90e464923406f5eccc2b73c2c346150d55ceabc9491937b00a06e4c2ce"
  },
  "kernelspec": {
   "display_name": "bm",
   "language": "python",
   "name": "bm"
  },
  "language_info": {
   "codemirror_mode": {
    "name": "ipython",
    "version": 3
   },
   "file_extension": ".py",
   "mimetype": "text/x-python",
   "name": "python",
   "nbconvert_exporter": "python",
   "pygments_lexer": "ipython3",
   "version": "3.7.4"
  }
 },
 "nbformat": 4,
 "nbformat_minor": 5
}
