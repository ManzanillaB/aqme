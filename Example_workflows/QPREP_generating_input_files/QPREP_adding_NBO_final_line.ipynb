{
 "cells": [
  {
   "cell_type": "markdown",
   "id": "9482e663",
   "metadata": {},
   "source": [
    "# Preparation of QM input files"
   ]
  },
  {
   "cell_type": "markdown",
   "id": "718a7f9a",
   "metadata": {},
   "source": [
    "##### QPREP input file preparation for Gaussian jobs with NBO final line"
   ]
  },
  {
   "cell_type": "code",
   "execution_count": null,
   "id": "2509f67e",
   "metadata": {},
   "outputs": [],
   "source": [
    "# do an NBO calc with a final line after coords (requiring Wyberg bond orders)\n",
    "\n",
    "import os\n",
    "from aqme.qprep import qprep\n",
    "\n",
    "# folder with input json files and their names (*.json to include all the json files in the folder)\n",
    "w_dir_main = os.getcwd()+'/json_files'\n",
    "json_files = '*.json'\n",
    "\n",
    "# folder to create the new input files\n",
    "destination = os.getcwd()+'/json_files/qm_input'\n",
    "\n",
    "# run the QPREP module, with:\n",
    "# 1) Working directory (w_dir_main=w_dir_main)\n",
    "# 2) Directory to create the input files (destination=destination)\n",
    "# 3) Names of the files to get atoms and coordinates (files=json_files)\n",
    "# 4) Final line after the coordinates section (qm_end='$nbo bndidx $end')\n",
    "# 5) Keyword line(s) used in the inputs (qm_input='wb97xd/def2qzvpp scrf=(smd,solvent=acetonitrile)')\n",
    "# 6) Suffix to add to the file names (suffix='wb97xd-nbo')\n",
    "# 7) Program for the input file format (program='gaussian')\n",
    "# 8) Memory to use in the calculations (mem='16GB')\n",
    "# 9) Processors to use in the calcs (nprocs=8)\n",
    "print(f'o  Creating input files with suffix \"wb97xd-nbo\" in {destination}\\n')\n",
    "qprep(w_dir_main=w_dir_main, destination=destination, files=json_files, qm_end='$nbo bndidx $end',\n",
    "            qm_input='pop=(nbo6read,savenbos) wb97xd/def2svp', suffix='wb97xd-nbo',\n",
    "            program='gaussian', mem='16GB', nprocs=8)"
   ]
  }
 ],
 "metadata": {
  "kernelspec": {
   "display_name": "Python 3 (ipykernel)",
   "language": "python",
   "name": "python3"
  },
  "language_info": {
   "codemirror_mode": {
    "name": "ipython",
    "version": 3
   },
   "file_extension": ".py",
   "mimetype": "text/x-python",
   "name": "python",
   "nbconvert_exporter": "python",
   "pygments_lexer": "ipython3",
   "version": "3.7.9"
  }
 },
 "nbformat": 4,
 "nbformat_minor": 5
}
