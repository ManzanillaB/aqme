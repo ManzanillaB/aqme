{
 "cells": [
  {
   "cell_type": "markdown",
   "metadata": {},
   "source": [
    "# Preparation of QM input files"
   ]
  },
  {
   "cell_type": "markdown",
   "metadata": {},
   "source": [
    "##### QPREP input files preparation of a benchmarking containing 3 levels of theory for Gaussian and 1 level of theory for ORCA input files"
   ]
  },
  {
   "cell_type": "code",
   "execution_count": 1,
   "metadata": {},
   "outputs": [
    {
     "name": "stdout",
     "output_type": "stream",
     "text": [
      "o  Creating input files with suffix \"wb97xd\" \n",
      "\n",
      "AQME v 1.2 2022/09/02 12:36:37 \n",
      "Citation: AQME v 1.2, Alegre-Requena, J. V.; Sowndarya, S.; Perez-Soto, R.; Alturaifi, T. M.; Paton, R. S., 2022. https://github.com/jvalegre/aqme\n",
      "\n",
      "\n",
      "o  H_freq successfully processed at /home/svss/Project-DBcg-Debug/aqme2_20220329/examples-updated/Example_workflows/QPREP_generating_input_files/QCALC\n",
      "\n",
      "o  CH4_charged successfully processed at /home/svss/Project-DBcg-Debug/aqme2_20220329/examples-updated/Example_workflows/QPREP_generating_input_files/QCALC\n",
      "\n",
      "o  CH4 successfully processed at /home/svss/Project-DBcg-Debug/aqme2_20220329/examples-updated/Example_workflows/QPREP_generating_input_files/QCALC\n",
      "\n",
      "\n",
      "Time QPREP: 0.0 seconds\n",
      "\n",
      "\n",
      "o  Creating input files with suffix \"m062x\" \n",
      "\n",
      "AQME v 1.2 2022/09/02 12:36:37 \n",
      "Citation: AQME v 1.2, Alegre-Requena, J. V.; Sowndarya, S.; Perez-Soto, R.; Alturaifi, T. M.; Paton, R. S., 2022. https://github.com/jvalegre/aqme\n",
      "\n",
      "\n",
      "o  H_freq successfully processed at /home/svss/Project-DBcg-Debug/aqme2_20220329/examples-updated/Example_workflows/QPREP_generating_input_files/QCALC\n",
      "\n",
      "o  CH4_charged successfully processed at /home/svss/Project-DBcg-Debug/aqme2_20220329/examples-updated/Example_workflows/QPREP_generating_input_files/QCALC\n",
      "\n",
      "o  CH4 successfully processed at /home/svss/Project-DBcg-Debug/aqme2_20220329/examples-updated/Example_workflows/QPREP_generating_input_files/QCALC\n",
      "\n",
      "\n",
      "Time QPREP: 0.0 seconds\n",
      "\n",
      "\n",
      "o  Creating input files with suffix \"b3lyp\" \n",
      "\n",
      "AQME v 1.2 2022/09/02 12:36:37 \n",
      "Citation: AQME v 1.2, Alegre-Requena, J. V.; Sowndarya, S.; Perez-Soto, R.; Alturaifi, T. M.; Paton, R. S., 2022. https://github.com/jvalegre/aqme\n",
      "\n",
      "\n",
      "o  H_freq successfully processed at /home/svss/Project-DBcg-Debug/aqme2_20220329/examples-updated/Example_workflows/QPREP_generating_input_files/QCALC\n",
      "\n",
      "o  CH4_charged successfully processed at /home/svss/Project-DBcg-Debug/aqme2_20220329/examples-updated/Example_workflows/QPREP_generating_input_files/QCALC\n",
      "\n",
      "o  CH4 successfully processed at /home/svss/Project-DBcg-Debug/aqme2_20220329/examples-updated/Example_workflows/QPREP_generating_input_files/QCALC\n",
      "\n",
      "\n",
      "Time QPREP: 0.0 seconds\n",
      "\n",
      "\n",
      "o  Creating input files with suffix \"DLPNO\" \n",
      "\n",
      "AQME v 1.2 2022/09/02 12:36:37 \n",
      "Citation: AQME v 1.2, Alegre-Requena, J. V.; Sowndarya, S.; Perez-Soto, R.; Alturaifi, T. M.; Paton, R. S., 2022. https://github.com/jvalegre/aqme\n",
      "\n",
      "\n",
      "o  H_freq successfully processed at /home/svss/Project-DBcg-Debug/aqme2_20220329/examples-updated/Example_workflows/QPREP_generating_input_files/QCALC\n",
      "\n",
      "o  CH4_charged successfully processed at /home/svss/Project-DBcg-Debug/aqme2_20220329/examples-updated/Example_workflows/QPREP_generating_input_files/QCALC\n",
      "\n",
      "o  CH4 successfully processed at /home/svss/Project-DBcg-Debug/aqme2_20220329/examples-updated/Example_workflows/QPREP_generating_input_files/QCALC\n",
      "\n",
      "\n",
      "Time QPREP: 0.0 seconds\n",
      "\n",
      "\n"
     ]
    },
    {
     "name": "stderr",
     "output_type": "stream",
     "text": [
      "RDKit WARNING: [12:36:37] Enabling RDKit 2019.09.3 jupyter extensions\n",
      "[12:36:37] Enabling RDKit 2019.09.3 jupyter extensions\n"
     ]
    }
   ],
   "source": [
    "import os\n",
    "from aqme.qprep import qprep\n",
    "\n",
    "# folder with input log files and their names (*.log to include all the log files in the folder)\n",
    "log_files = os.getcwd()+'/log_files/*.log'\n",
    "\n",
    "# specify a list of lists with level of theory, suffix and program used to generate input files\n",
    "# 1) Three levels of theory for Gaussian calculations\n",
    "lot_suffix_program = [['wb97xd/def2qzvpp scrf=(smd,solvent=acetonitrile)','wb97xd','gaussian']]\n",
    "lot_suffix_program.append(['m062x/def2qzvpp emp=gd3 scrf=(smd,solvent=acetonitrile)','m062x','gaussian'])\n",
    "lot_suffix_program.append(['b3lyp/6-31G*','b3lyp','gaussian'])\n",
    "\n",
    "# 2) A DLPNO example for ORCA calculations\n",
    "ORCA_SP = 'Extrapolate(2/3,cc) def2/J cc-pVTZ/C DLPNO-CCSD(T) NormalPNO TightSCF RIJCOSX GridX7\\n'\n",
    "ORCA_SP += '%cpcm\\n'\n",
    "ORCA_SP += 'smd true\\n'\n",
    "ORCA_SP += 'SMDsolvent \\\"CH2Cl2\\\"\\n'\n",
    "ORCA_SP += 'end\\n'\n",
    "ORCA_SP += '%method\\n'\n",
    "ORCA_SP += 'Grid 3\\n'\n",
    "ORCA_SP += 'FinalGrid 5\\n'\n",
    "ORCA_SP += 'end\\n'\n",
    "ORCA_SP += '%scf maxiter 500\\n'\n",
    "ORCA_SP += 'end\\n'\n",
    "ORCA_SP += '% mdci\\n'\n",
    "ORCA_SP += 'Density None\\n'\n",
    "ORCA_SP += 'end\\n'\n",
    "ORCA_SP += '% elprop\\n'\n",
    "ORCA_SP += 'Dipole False\\n'\n",
    "ORCA_SP += 'end'\n",
    "\n",
    "lot_suffix_program.append([ORCA_SP,'DLPNO','orca'])\n",
    "\n",
    "# run the QPREP module, with:\n",
    "# 1) Working directory (w_dir_main=w_dir_main)\n",
    "# 2) Directory to create the input files (destination=destination)\n",
    "# 3) Names of the files to get atoms and coordinates (files=log_files)\n",
    "# 4) Keyword line(s) used in the inputs (qm_input=level[0])\n",
    "# 5) Suffix to add to the file names (suffix=level[1])\n",
    "# 6) Program for the input file format (program=level[2])\n",
    "# 7) Memory to use in the calculations (mem='4GB')\n",
    "# 8) Processors to use in the calcs (nprocs=2)\n",
    "for level in lot_suffix_program:\n",
    "    print(f'o  Creating input files with suffix \"{level[1]}\" \\n')\n",
    "    qprep(files=log_files, \n",
    "          qm_input=level[0], suffix=level[1], program=level[2], mem='4GB', nprocs=2)\n"
   ]
  },
  {
   "cell_type": "code",
   "execution_count": null,
   "metadata": {},
   "outputs": [],
   "source": []
  }
 ],
 "metadata": {
  "kernelspec": {
   "display_name": "Python [conda env:svss-bm]",
   "language": "python",
   "name": "conda-env-svss-bm-py"
  },
  "language_info": {
   "codemirror_mode": {
    "name": "ipython",
    "version": 3
   },
   "file_extension": ".py",
   "mimetype": "text/x-python",
   "name": "python",
   "nbconvert_exporter": "python",
   "pygments_lexer": "ipython3",
   "version": "3.7.4"
  }
 },
 "nbformat": 4,
 "nbformat_minor": 5
}
