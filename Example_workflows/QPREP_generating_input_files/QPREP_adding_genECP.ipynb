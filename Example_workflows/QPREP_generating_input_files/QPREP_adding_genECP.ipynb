{
 "cells": [
  {
   "cell_type": "markdown",
   "id": "9482e663",
   "metadata": {},
   "source": [
    "# Preparation of QM input files"
   ]
  },
  {
   "cell_type": "markdown",
   "id": "2ed6ac25",
   "metadata": {},
   "source": [
    "##### QPREP input file preparation for Gaussian jobs with genECP sections (automatically detection of genECP atoms)"
   ]
  },
  {
   "cell_type": "code",
   "execution_count": null,
   "id": "e7c03e01",
   "metadata": {},
   "outputs": [],
   "source": [
    "# do a single point with genECP included\n",
    "\n",
    "import os\n",
    "from aqme.qprep import qprep\n",
    "\n",
    "# folder with input json files and their names (*.json to include all the json files in the folder)\n",
    "w_dir_main = os.getcwd()+'/json_files'\n",
    "json_files = '*.json'\n",
    "\n",
    "# folder to create the new input files\n",
    "destination = os.getcwd()+'/json_files/qm_input'\n",
    "\n",
    "# run the QPREP module, with:\n",
    "# 1) Working directory (w_dir_main=w_dir_main)\n",
    "# 2) Directory to create the input files (destination=destination)\n",
    "# 3) Names of the files to get atoms and coordinates (files=json_files)\n",
    "# 4) Basis set to use in the atoms included in genECP (bs_gen='def2svp')\n",
    "# 5) Basis set to use in the rest of the atoms (bs='6-31G*')\n",
    "# 6) Atoms to include as genECP (gen_atoms=['C'])\n",
    "# 7) Keyword line(s) used in the inputs (qm_input='wb97xd/genecp scrf=(smd,solvent=acetonitrile)')\n",
    "# 8) Suffix to add to the file names (suffix='wb97xd-genecp')\n",
    "# 9) Program for the input file format (program='gaussian')\n",
    "# 10) Memory to use in the calculations (mem='16GB')\n",
    "# 11) Processors to use in the calcs (nprocs=8)\n",
    "print(f'o  Creating input files with suffix \"wb97xd-genecp\" in {destination}\\n')\n",
    "qprep(w_dir_main=w_dir_main, destination=destination,files=json_files,\n",
    "            bs_gen='def2svp', bs='6-31G*', gen_atoms=['C'],\n",
    "            qm_input='wb97xd/genecp scrf=(smd,solvent=acetonitrile)', suffix='wb97xd-genecp',\n",
    "            program='gaussian', mem='16GB', nprocs=8)"
   ]
  }
 ],
 "metadata": {
  "kernelspec": {
   "display_name": "Python 3 (ipykernel)",
   "language": "python",
   "name": "python3"
  },
  "language_info": {
   "codemirror_mode": {
    "name": "ipython",
    "version": 3
   },
   "file_extension": ".py",
   "mimetype": "text/x-python",
   "name": "python",
   "nbconvert_exporter": "python",
   "pygments_lexer": "ipython3",
   "version": "3.7.9"
  }
 },
 "nbformat": 4,
 "nbformat_minor": 5
}
