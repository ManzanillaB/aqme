{
 "cells": [
  {
   "cell_type": "markdown",
   "metadata": {},
   "source": [
    "# Preparation of QM input files"
   ]
  },
  {
   "cell_type": "markdown",
   "metadata": {},
   "source": [
    "##### QPREP input file preparation for Gaussian jobs with genECP sections (automatically detection of genECP atoms)"
   ]
  },
  {
   "cell_type": "code",
   "execution_count": 1,
   "metadata": {},
   "outputs": [
    {
     "name": "stdout",
     "output_type": "stream",
     "text": [
      "o  Creating input files with suffix \"wb97xd-genecp\"\n",
      "\n",
      "AQME v 1.2 2022/09/02 12:33:28 \n",
      "Citation: AQME v 1.2, Alegre-Requena, J. V.; Sowndarya, S.; Perez-Soto, R.; Alturaifi, T. M.; Paton, R. S., 2022. https://github.com/jvalegre/aqme\n",
      "\n",
      "\n",
      "o  CH4 successfully processed at /home/svss/Project-DBcg-Debug/aqme2_20220329/examples-updated/Example_workflows/QPREP_generating_input_files/QCALC\n",
      "\n",
      "o  MeOH_NMR_charged successfully processed at /home/svss/Project-DBcg-Debug/aqme2_20220329/examples-updated/Example_workflows/QPREP_generating_input_files/QCALC\n",
      "\n",
      "o  MeOH_NMR successfully processed at /home/svss/Project-DBcg-Debug/aqme2_20220329/examples-updated/Example_workflows/QPREP_generating_input_files/QCALC\n",
      "\n",
      "\n",
      "Time QPREP: 0.0 seconds\n",
      "\n",
      "\n"
     ]
    },
    {
     "name": "stderr",
     "output_type": "stream",
     "text": [
      "RDKit WARNING: [12:33:28] Enabling RDKit 2019.09.3 jupyter extensions\n",
      "[12:33:28] Enabling RDKit 2019.09.3 jupyter extensions\n"
     ]
    },
    {
     "data": {
      "text/plain": [
       "<aqme.qprep.qprep at 0x2aea3954e110>"
      ]
     },
     "execution_count": 1,
     "metadata": {},
     "output_type": "execute_result"
    }
   ],
   "source": [
    "# do a single point with genECP included\n",
    "\n",
    "import os\n",
    "from aqme.qprep import qprep\n",
    "\n",
    "# folder with input json files and their names (*.json to include all the json files in the folder)\n",
    "json_files = os.getcwd()+'/json_files/*.json'\n",
    "\n",
    "# run the QPREP module, with:\n",
    "# 1) Names of the files to get atoms and coordinates (files=json_files)\n",
    "# 2) Basis set to use in the atoms included in genECP (bs_gen='def2svp')\n",
    "# 3) Basis set to use in the rest of the atoms (bs='6-31G*')\n",
    "# 4) Atoms to include as genECP (gen_atoms=['C'])\n",
    "# 5) Keyword line(s) used in the inputs (qm_input='wb97xd/genecp scrf=(smd,solvent=acetonitrile)')\n",
    "# 6) Suffix to add to the file names (suffix='wb97xd-genecp')\n",
    "# 7) Program for the input file format (program='gaussian')\n",
    "# 8) Memory to use in the calculations (mem='16GB')\n",
    "# 9) Processors to use in the calcs (nprocs=8)\n",
    "print(f'o  Creating input files with suffix \"wb97xd-genecp\"\\n')\n",
    "qprep(files=json_files,\n",
    "            bs_gen='def2svp', bs_nogen='6-31G*', gen_atoms=['C'],\n",
    "            qm_input='wb97xd/genecp scrf=(smd,solvent=acetonitrile)', suffix='wb97xd-genecp',\n",
    "            program='gaussian', mem='16GB', nprocs=8)"
   ]
  },
  {
   "cell_type": "code",
   "execution_count": null,
   "metadata": {},
   "outputs": [],
   "source": []
  }
 ],
 "metadata": {
  "kernelspec": {
   "display_name": "Python [conda env:svss-bm]",
   "language": "python",
   "name": "conda-env-svss-bm-py"
  },
  "language_info": {
   "codemirror_mode": {
    "name": "ipython",
    "version": 3
   },
   "file_extension": ".py",
   "mimetype": "text/x-python",
   "name": "python",
   "nbconvert_exporter": "python",
   "pygments_lexer": "ipython3",
   "version": "3.7.4"
  }
 },
 "nbformat": 4,
 "nbformat_minor": 5
}
