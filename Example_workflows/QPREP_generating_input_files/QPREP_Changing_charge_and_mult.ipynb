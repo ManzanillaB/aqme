{
 "cells": [
  {
   "cell_type": "markdown",
   "id": "9482e663",
   "metadata": {},
   "source": [
    "# Preparation of QM input files"
   ]
  },
  {
   "cell_type": "markdown",
   "id": "aca9c887",
   "metadata": {},
   "source": [
    "##### QPREP input file preparation for Gaussian with predefined charge and multiplicity"
   ]
  },
  {
   "cell_type": "code",
   "execution_count": null,
   "id": "30c8d03e",
   "metadata": {},
   "outputs": [],
   "source": [
    "# calculate reduction potential from sdf files\n",
    "import os\n",
    "from aqme.qprep import qprep\n",
    "\n",
    "# folder with input sdf files and their names (*.sdf to include all the sdf files in the folder)\n",
    "w_dir_main = os.getcwd()+'/sdf_files'\n",
    "sdf_files = '*.sdf'\n",
    "\n",
    "# folder to create the new input files\n",
    "destination = os.getcwd()+'/sdf_files/qm_input'\n",
    "\n",
    "# run the QPREP module, with:\n",
    "# 1) Working directory (w_dir_main=w_dir_main)\n",
    "# 2) Directory to create the input files (destination=destination)\n",
    "# 3) Names of the files to get atoms and coordinates (files=sdf_files)\n",
    "# 4) Set charge for the input files (charge=-1)\n",
    "# 5) Set multiplicity for the input files (mult=2)\n",
    "# 6) Keyword line(s) used in the inputs (qm_input='wb97xd/def2qzvpp scrf=(smd,solvent=acetonitrile)')\n",
    "# 7) Suffix to add to the file names (suffix='wb97xd-reduced')\n",
    "# 8) Program for the input file format (program='gaussian')\n",
    "# 9) Memory to use in the calculations (mem='16GB')\n",
    "# 10) Processors to use in the calcs (nprocs=8)\n",
    "print(f'o  Creating input files with suffix \"wb97xd-reduced\" in {destination}\\n')\n",
    "qprep(w_dir_main=w_dir_main, destination=destination, files=sdf_files, charge=-1, mult=2,\n",
    "      qm_input='wb97xd/def2qzvpp scrf=(smd,solvent=acetonitrile)', suffix='wb97xd-reduced',\n",
    "      program='gaussian', mem='16GB', nprocs=8)"
   ]
  }
 ],
 "metadata": {
  "kernelspec": {
   "display_name": "Python 3 (ipykernel)",
   "language": "python",
   "name": "python3"
  },
  "language_info": {
   "codemirror_mode": {
    "name": "ipython",
    "version": 3
   },
   "file_extension": ".py",
   "mimetype": "text/x-python",
   "name": "python",
   "nbconvert_exporter": "python",
   "pygments_lexer": "ipython3",
   "version": "3.7.9"
  }
 },
 "nbformat": 4,
 "nbformat_minor": 5
}
