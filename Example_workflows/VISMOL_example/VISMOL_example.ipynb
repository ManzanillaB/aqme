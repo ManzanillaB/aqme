{
 "cells": [
  {
   "cell_type": "markdown",
   "id": "d733fcd5-fafc-4797-be46-fc9c5f23d9ab",
   "metadata": {},
   "source": [
    "#### Visual images of SDF molecules\n"
   ]
  },
  {
   "cell_type": "code",
   "execution_count": 1,
   "id": "15c32915-2f22-4915-a852-1c7bcf635495",
   "metadata": {},
   "outputs": [
    {
     "name": "stderr",
     "output_type": "stream",
     "text": [
      "[16:55:29] Enabling RDKit 2019.09.3 jupyter extensions\n",
      "RDKit WARNING: [16:55:29] Enabling RDKit 2019.09.3 jupyter extensions\n"
     ]
    }
   ],
   "source": [
    "import os, glob\n",
    "from pathlib import Path\n",
    "from aqme.vismol import vismol"
   ]
  },
  {
   "cell_type": "markdown",
   "id": "e7696ea7-6fae-4802-9a2a-5e32647bcc0c",
   "metadata": {},
   "source": [
    "###### Step 2 : VISMOL to produces 3D mol"
   ]
  },
  {
   "cell_type": "code",
   "execution_count": 2,
   "id": "4285cc7c-956f-4f6f-a92d-66d17557c824",
   "metadata": {},
   "outputs": [
    {
     "name": "stdout",
     "output_type": "stream",
     "text": [
      "['quinine_rdkit.sdf', 'quinine_rdkit_2.sdf']\n"
     ]
    },
    {
     "data": {
      "application/vnd.jupyter.widget-view+json": {
       "model_id": "11947594581e4bedae87d555bb4a55ce",
       "version_major": 2,
       "version_minor": 0
      },
      "text/plain": [
       "interactive(children=(IntSlider(value=0, description='idx', max=9), Dropdown(description='Style:', options=('l…"
      ]
     },
     "metadata": {},
     "output_type": "display_data"
    },
    {
     "data": {
      "application/vnd.jupyter.widget-view+json": {
       "model_id": "d88cea4a3f504b6a9a699ae28bc1668c",
       "version_major": 2,
       "version_minor": 0
      },
      "text/plain": [
       "interactive(children=(IntSlider(value=0, description='idx', max=9), Dropdown(description='Style:', options=('l…"
      ]
     },
     "metadata": {},
     "output_type": "display_data"
    },
    {
     "data": {
      "text/plain": [
       "<aqme.vismol.vismol at 0x2b9689666450>"
      ]
     },
     "execution_count": 2,
     "metadata": {},
     "output_type": "execute_result"
    }
   ],
   "source": [
    "from aqme.vismol import vismol\n",
    "files = glob.glob('*.sdf')\n",
    "print(files)\n",
    "vismol(files=files)\n",
    " "
   ]
  },
  {
   "cell_type": "code",
   "execution_count": 3,
   "id": "7dd87f1a-9cd0-47ef-ae24-aebaeb2e9197",
   "metadata": {},
   "outputs": [
    {
     "data": {
      "application/vnd.jupyter.widget-view+json": {
       "model_id": "e745d8c3985a4f17b84185c384846664",
       "version_major": 2,
       "version_minor": 0
      },
      "text/plain": [
       "interactive(children=(IntSlider(value=0, description='idx', max=2), Dropdown(description='Style:', options=('l…"
      ]
     },
     "metadata": {},
     "output_type": "display_data"
    },
    {
     "data": {
      "text/plain": [
       "<aqme.vismol.vismol at 0x2ad5dc0fba10>"
      ]
     },
     "execution_count": 3,
     "metadata": {},
     "output_type": "execute_result"
    }
   ],
   "source": [
    "files =  glob.glob('*.xyz')\n",
    "vismol(files=files)"
   ]
  },
  {
   "cell_type": "code",
   "execution_count": 4,
   "id": "6aa502c6-a0e2-48a7-9c16-02b4322d003b",
   "metadata": {},
   "outputs": [
    {
     "data": {
      "application/vnd.jupyter.widget-view+json": {
       "model_id": "995f5e946db34c4fabd35b5fc6b07e23",
       "version_major": 2,
       "version_minor": 0
      },
      "text/plain": [
       "interactive(children=(IntSlider(value=0, description='idx', max=0), Dropdown(description='Style:', options=('l…"
      ]
     },
     "metadata": {},
     "output_type": "display_data"
    },
    {
     "data": {
      "text/plain": [
       "<aqme.vismol.vismol at 0x2ad5dc078390>"
      ]
     },
     "execution_count": 4,
     "metadata": {},
     "output_type": "execute_result"
    }
   ],
   "source": [
    "files = glob.glob('*.pdb')\n",
    "vismol(files=files)"
   ]
  },
  {
   "cell_type": "code",
   "execution_count": null,
   "id": "6bb75576-3f6a-4348-970b-3703429896e9",
   "metadata": {},
   "outputs": [],
   "source": []
  }
 ],
 "metadata": {
  "kernelspec": {
   "display_name": "bm",
   "language": "python",
   "name": "bm"
  },
  "language_info": {
   "codemirror_mode": {
    "name": "ipython",
    "version": 3
   },
   "file_extension": ".py",
   "mimetype": "text/x-python",
   "name": "python",
   "nbconvert_exporter": "python",
   "pygments_lexer": "ipython3",
   "version": "3.7.4"
  }
 },
 "nbformat": 4,
 "nbformat_minor": 5
}
