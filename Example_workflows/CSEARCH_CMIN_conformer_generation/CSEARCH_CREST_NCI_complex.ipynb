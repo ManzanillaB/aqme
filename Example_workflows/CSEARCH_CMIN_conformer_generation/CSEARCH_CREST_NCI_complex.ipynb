{
 "cells": [
  {
   "cell_type": "markdown",
   "metadata": {},
   "source": [
    "#### SMILES input of a noncovalent isopentane--water complex, create Gaussian input files, CSEARCH with CREST"
   ]
  },
  {
   "cell_type": "markdown",
   "metadata": {},
   "source": [
    "###### Step 1: CSEARCH conformational sampling (creates SDF files)"
   ]
  },
  {
   "cell_type": "code",
   "execution_count": null,
   "metadata": {},
   "outputs": [],
   "source": [
    "import os, glob\n",
    "from pathlib import Path                                                                                                                                                          \n",
    "from aqme.csearch import csearch\n",
    "from aqme.qprep import qprep\n",
    "\n",
    "name = 'isopent-water-complex'\n",
    "smi = 'CCC(C)C.O'\n",
    "\n",
    "# run CSEARCH conformational sampling, specifying:\n",
    "# 1) SMILES string (smi=smi)\n",
    "# 2) Name for the output SDF files (name=name)\n",
    "# 3) CREST sampling (program='crest')\n",
    "# 4) Additional CREST keywords (crest_keywords='--nci')\n",
    "# 5) Include CREGEN post-analysis (cregen=True)\n",
    "# 6) Additional CREGEN keywords (cregen_keywords='--ewin 3')\n",
    "csearch(smi=smi,\n",
    "        name=name,program='crest',crest_keywords='--nci',\n",
    "        cregen=True,cregen_keywords='--ewin 3')"
   ]
  },
  {
   "cell_type": "markdown",
   "metadata": {},
   "source": [
    "###### Step 2: Writing Gaussian input files with the sdf obtained from CSEARCH"
   ]
  },
  {
   "cell_type": "code",
   "execution_count": null,
   "metadata": {},
   "outputs": [],
   "source": [
    "# set SDF filenames and directory where the new com files will be created\n",
    "sdf_rdkit_files = glob.glob(f'CSEARCH/crest/*.sdf')\n",
    "\n",
    "# run QPREP input files generator, with:\n",
    "# 1) Files to convert (files=file)\n",
    "# 2) QM program for the input (program='gaussian')\n",
    "# 3) Keyword line for the Gaussian inputs (qm_input='wb97xd/6-31+G* opt freq')\n",
    "# 4) Memory to use in the calculations (mem='24GB')\n",
    "# 5) Processors to use in the calcs (nprocs=8)\n",
    "qprep(files=sdf_rdkit_files,program='gaussian',\n",
    "        qm_input='wb97xd/6-31+G* opt freq',mem='24GB',nprocs=8)"
   ]
  },
  {
   "cell_type": "code",
   "execution_count": null,
   "metadata": {},
   "outputs": [],
   "source": []
  }
 ],
 "metadata": {
  "interpreter": {
   "hash": "8aa3fe90e464923406f5eccc2b73c2c346150d55ceabc9491937b00a06e4c2ce"
  },
  "kernelspec": {
   "display_name": "Python [conda env:svss-bm]",
   "language": "python",
   "name": "conda-env-svss-bm-py"
  },
  "language_info": {
   "codemirror_mode": {
    "name": "ipython",
    "version": 3
   },
   "file_extension": ".py",
   "mimetype": "text/x-python",
   "name": "python",
   "nbconvert_exporter": "python",
   "pygments_lexer": "ipython3",
   "version": "3.7.4"
  }
 },
 "nbformat": 4,
 "nbformat_minor": 5
}
