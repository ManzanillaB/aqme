{
 "cells": [
  {
   "cell_type": "markdown",
   "id": "b9a82157-387b-4cad-94fe-a1764913fecc",
   "metadata": {},
   "source": [
    "#### TS including a three-component noncovalent complex from SMILES, create ORCA input files, CSEARCH with CREST"
   ]
  },
  {
   "cell_type": "markdown",
   "id": "299fa47c",
   "metadata": {},
   "source": [
    "###### Step 1: creating SMILES with predefined atom numbers and setting constrains"
   ]
  },
  {
   "cell_type": "code",
   "execution_count": 3,
   "id": "5c540ff4-f7a7-4799-bceb-340af8039cf1",
   "metadata": {},
   "outputs": [
    {
     "name": "stdout",
     "output_type": "stream",
     "text": [
      "[Cl-:9].[F:4][C:5]([C:6]([H:12])([H:13])[H:14])([C:7]([H:15])([H:16])[H:17])[C:8]([H:18])([H:19])[H:20].[O:3]([H:10])[H:11]\n"
     ]
    },
    {
     "data": {
      "image/png": "[encoded data removed]",
      "text/plain": [
       "<rdkit.Chem.rdchem.Mol at 0x11bb6ebab20>"
      ]
     },
     "execution_count": 3,
     "metadata": {},
     "output_type": "execute_result"
    }
   ],
   "source": [
    "import os, glob\n",
    "from pathlib import Path\n",
    "from rdkit import Chem                                                                                                                                                         \n",
    "from aqme.csearch import csearch\n",
    "from aqme.qprep import qprep\n",
    "\n",
    "smi = 'O.FC(C)(C)C.[Cl-]'\n",
    "mol = Chem.MolFromSmiles(smi)\n",
    "mol = Chem.AddHs(mol)\n",
    "for i,atom in enumerate(mol.GetAtoms()):\n",
    "    atom.SetAtomMapNum(i+3) \n",
    "# mapped SMILES to use in CSEARCH\n",
    "smi_new = Chem.MolToSmiles(mol)\n",
    "\n",
    "print(smi_new)\n",
    "mol"
   ]
  },
  {
   "cell_type": "code",
   "execution_count": null,
   "id": "d309bf9f-3f08-4d9a-89d4-80c887396ee8",
   "metadata": {},
   "outputs": [],
   "source": [
    "# based on the atom numbers above, I choose the constraints for my TS:\n",
    "# 1) Bond between atoms 4 and 5 with a distance of 1.8 A\n",
    "# 2) Bond between atoms 5 and 9 with a distance of 1.8 A\n",
    "constraits_dist = [[4,5,1.8],[5,9,1.8]]\n",
    "\n",
    "# 3) Angle between atoms 4, 5 and 9 of 180 degrees\n",
    "constraits_angle = [[4,5,9,180]]"
   ]
  },
  {
   "cell_type": "markdown",
   "id": "749d94f7",
   "metadata": {},
   "source": [
    "###### Step 2: doing CSEARCH"
   ]
  },
  {
   "cell_type": "code",
   "execution_count": null,
   "id": "ea94ea59-b28f-4a94-ace3-bfb376c88599",
   "metadata": {},
   "outputs": [],
   "source": [
    "w_dir_main = Path(os.getcwd())\n",
    "sdf_path = w_dir_main.joinpath('TS-example')\n",
    "\n",
    "# run CSEARCH conformational sampling, specifying:\n",
    "# 1) Working directory (w_dir_main=w_dir_main)\n",
    "# 2) PATH to create the new SDF files (destination=sdf_path)\n",
    "# 3) Mapped SMILES string (smi=smi_new)\n",
    "# 4) Name for the output SDF files (name='TS-example')\n",
    "# 5) RDKit sampling (program='crest')\n",
    "# 6) Include CREGEN post-analysis (cregen=True)\n",
    "# 7) Specify that this a TS calculation (complex=True)\n",
    "# 8) Define distance constraints (constraints_dist=constraits_dist)\n",
    "# 9) Define angle constraints (constraints_angle=constraits_angle)\n",
    "csearch(w_dir_main=w_dir_main,destination=sdf_path,smi=smi_new,\n",
    "        name='TS-example',program='crest',cregen=True,complex=True,\n",
    "        constraints_dist=constraits_dist,constraints_angle=constraits_angle)"
   ]
  },
  {
   "cell_type": "markdown",
   "id": "ce3a1897",
   "metadata": {},
   "source": [
    "###### Step 3: Writing Gaussian input files with the SDF files obtained from CSEARCH"
   ]
  },
  {
   "cell_type": "code",
   "execution_count": null,
   "id": "90ea8fa7",
   "metadata": {},
   "outputs": [],
   "source": [
    "# set SDF filenames and directory where the new com files will be created\n",
    "com_path = sdf_path.joinpath(f'com_files')\n",
    "sdf_rdkit_files = glob.glob(f'{sdf_path}/*.sdf')\n",
    "\n",
    "# run QPREP input files generator, with:\n",
    "# 1) Working directory (w_dir_main=sdf_path)\n",
    "# 2) PATH to create the new SDF files (destination=com_path)\n",
    "# 3) Files to convert (files=file)\n",
    "# 4) QM program for the input (program='gaussian')\n",
    "# 5) Keyword line for the Gaussian inputs (qm_input='wb97xd/6-31+G* opt=(calcfc,ts,noeigen) freq')\n",
    "# 6) Memory to use in the calculations (mem='24GB')\n",
    "# 7) Processors to use in the calcs (nprocs=8)\n",
    "qprep(w_dir_main=sdf_path,destination=com_path,files=sdf_rdkit_files,program='gaussian',\n",
    "        qm_input='wb97xd/6-31+G* opt=(calcfc,ts,noeigen) freq',mem='24GB',nprocs=8)"
   ]
  }
 ],
 "metadata": {
  "interpreter": {
   "hash": "8aa3fe90e464923406f5eccc2b73c2c346150d55ceabc9491937b00a06e4c2ce"
  },
  "kernelspec": {
   "display_name": "bm",
   "language": "python",
   "name": "python3"
  },
  "language_info": {
   "codemirror_mode": {
    "name": "ipython",
    "version": 3
   },
   "file_extension": ".py",
   "mimetype": "text/x-python",
   "name": "python",
   "nbconvert_exporter": "python",
   "pygments_lexer": "ipython3",
   "version": "3.7.9"
  }
 },
 "nbformat": 4,
 "nbformat_minor": 5
}
