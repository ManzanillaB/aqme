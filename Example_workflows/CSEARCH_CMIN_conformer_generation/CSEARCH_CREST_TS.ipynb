{
 "cells": [
  {
   "cell_type": "markdown",
   "metadata": {},
   "source": [
    "#### TS including a three-component noncovalent complex from SMILES, create ORCA input files, CSEARCH with CREST"
   ]
  },
  {
   "cell_type": "markdown",
   "metadata": {},
   "source": [
    "###### Step 1: creating SMILES with predefined atom numbers and setting constrains"
   ]
  },
  {
   "cell_type": "code",
   "execution_count": null,
   "metadata": {},
   "outputs": [],
   "source": [
    "import os, glob\n",
    "from pathlib import Path\n",
    "from rdkit import Chem                                                                                                                                                         \n",
    "from aqme.csearch import csearch\n",
    "from aqme.qprep import qprep\n",
    "\n",
    "smi = 'O.FC(C)(C)C.[Cl-]'\n",
    "mol = Chem.MolFromSmiles(smi)\n",
    "mol = Chem.AddHs(mol)\n",
    "for i,atom in enumerate(mol.GetAtoms()):\n",
    "    atom.SetAtomMapNum(i+3) \n",
    "# mapped SMILES to use in CSEARCH\n",
    "smi_new = Chem.MolToSmiles(mol)\n",
    "\n",
    "print(smi_new)\n",
    "mol"
   ]
  },
  {
   "cell_type": "code",
   "execution_count": null,
   "metadata": {},
   "outputs": [],
   "source": [
    "# based on the atom numbers above, I choose the constraints for my TS:\n",
    "# 1) Bond between atoms 4 and 5 with a distance of 1.8 A\n",
    "# 2) Bond between atoms 5 and 9 with a distance of 1.8 A\n",
    "constraits_dist = [[4,5,1.8],[5,9,1.8]]\n",
    "\n",
    "# 3) Angle between atoms 4, 5 and 9 of 180 degrees\n",
    "constraits_angle = [[4,5,9,180]]"
   ]
  },
  {
   "cell_type": "markdown",
   "metadata": {},
   "source": [
    "###### Step 2: doing CSEARCH"
   ]
  },
  {
   "cell_type": "code",
   "execution_count": null,
   "metadata": {},
   "outputs": [],
   "source": [
    "# run CSEARCH conformational sampling, specifying:\n",
    "# 1) Mapped SMILES string (smi=smi_new)\n",
    "# 2) Name for the output SDF files (name='TS-example')\n",
    "# 3) RDKit sampling (program='crest')\n",
    "# 4) Include CREGEN post-analysis (cregen=True)\n",
    "# 5) Specify that this a TS calculation (ts_complex=True)\n",
    "# 6) Define distance constraints (constraints_dist=constraits_dist)\n",
    "# 7) Define angle constraints (constraints_angle=constraits_angle)\n",
    "csearch(smi=smi_new,\n",
    "        name='TS-example',program='crest',cregen=True,crest_nci=True,\n",
    "        constraints_dist=constraits_dist,constraints_angle=constraits_angle)"
   ]
  },
  {
   "cell_type": "markdown",
   "metadata": {},
   "source": [
    "###### Step 3: Writing Gaussian input files with the SDF files obtained from CSEARCH"
   ]
  },
  {
   "cell_type": "code",
   "execution_count": null,
   "metadata": {},
   "outputs": [],
   "source": [
    "# set SDF filenames and directory where the new com files will be created\n",
    "sdf_rdkit_files = glob.glob(f'CSEARCH/crest/*.sdf')\n",
    "\n",
    "# run QPREP input files generator, with:\n",
    "# 1) Files to convert (files=sdf_rdkit_files)\n",
    "# 2) QM program for the input (program='gaussian')\n",
    "# 3) Keyword line for the Gaussian inputs (qm_input='wb97xd/6-31+G* opt=(calcfc,ts,noeigen) freq')\n",
    "# 4) Memory to use in the calculations (mem='24GB')\n",
    "# 5) Processors to use in the calcs (nprocs=8)\n",
    "qprep(files=sdf_rdkit_files,program='gaussian',\n",
    "        qm_input='wb97xd/6-31+G* opt=(calcfc,ts,noeigen) freq',mem='24GB',nprocs=8)"
   ]
  },
  {
   "cell_type": "code",
   "execution_count": null,
   "metadata": {},
   "outputs": [],
   "source": []
  }
 ],
 "metadata": {
  "interpreter": {
   "hash": "8aa3fe90e464923406f5eccc2b73c2c346150d55ceabc9491937b00a06e4c2ce"
  },
  "kernelspec": {
   "display_name": "Python [conda env:svss-bm]",
   "language": "python",
   "name": "conda-env-svss-bm-py"
  },
  "language_info": {
   "codemirror_mode": {
    "name": "ipython",
    "version": 3
   },
   "file_extension": ".py",
   "mimetype": "text/x-python",
   "name": "python",
   "nbconvert_exporter": "python",
   "pygments_lexer": "ipython3",
   "version": "3.7.4"
  }
 },
 "nbformat": 4,
 "nbformat_minor": 5
}
