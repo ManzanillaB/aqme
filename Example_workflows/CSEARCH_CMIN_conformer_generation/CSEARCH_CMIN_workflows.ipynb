{
 "cells": [
  {
   "cell_type": "markdown",
   "id": "1a356b9f-91bf-4ea8-88ff-f4eedae95586",
   "metadata": {},
   "source": [
    "# AQME for CSEARH and CMIN module, following which inputs for gaussian is generated"
   ]
  },
  {
   "cell_type": "code",
   "execution_count": null,
   "id": "6d2d6588-b5ec-4b38-942b-f5f0c42da428",
   "metadata": {},
   "outputs": [],
   "source": [
    "from rdkit import RDLogger\n",
    "from rdkit import Chem                                                                                                                                                             \n",
    "RDLogger.DisableLog('rdApp.*') \n",
    "\n",
    "from aqme.csearch import csearch\n",
    "from aqme.cmin import cmin\n",
    "from aqme.qprep import qprep\n",
    "   "
   ]
  },
  {
   "cell_type": "markdown",
   "id": "878349c5-74c7-46c8-b6de-90c8c7acd3ac",
   "metadata": {},
   "source": [
    "#### TASK 1: SMILES input of quinine, CSEARCH (conformer search) with RDKit, create Gaussian input files, CMIN (conformer minimization, additional refinement) with xTB"
   ]
  },
  {
   "cell_type": "markdown",
   "id": "3c7031cd-d724-4e83-823e-8baea28f4982",
   "metadata": {},
   "source": [
    "###### Step 1: doing CSEARCH"
   ]
  },
  {
   "cell_type": "code",
   "execution_count": null,
   "id": "4ffe99ff-eca7-4060-b668-fc34ee094e7b",
   "metadata": {},
   "outputs": [],
   "source": [
    "smi = 'COC1=CC2=C(C=CN=C2C=C1)[C@H]([C@@H]3C[C@@H]4CCN3C[C@@H]4C=C)O'\n",
    "params = 'params.yaml'\n",
    "name_1 = 'quinine'\n",
    "\n",
    "csearch_conf = csearch(smi,name_1,CSEARCH='rdkit')\n",
    "# run this function using a varfile\n",
    "# csearch_conf = csearch('SMILES','quinine',varfile=params)\n",
    "\n",
    "csearch_data = csearch_conf.compute_confs()\n",
    "csearch_data"
   ]
  },
  {
   "cell_type": "markdown",
   "id": "e29617e9-6463-4392-a3c2-ffc89898b1cc",
   "metadata": {},
   "source": [
    "###### Step 2: Doing CMIN with the sdf obtained from CSEARCH"
   ]
  },
  {
   "cell_type": "code",
   "execution_count": null,
   "id": "bd22b635-37e7-4dc0-a270-aac216553578",
   "metadata": {},
   "outputs": [],
   "source": [
    "for file in csearch_conf.csearch_file:\n",
    "    csearch_mols = Chem.SDMolSupplier(str(file),removeHs=False)\n",
    "    cmin_conf = cmin(csearch_mols,name_1,CMIN='xtb')\n",
    "    # run this function using a varfile\n",
    "    # cmin_conf = cmin(csearch_mols,'quinine',varfile=params)\n",
    "    \n",
    "cmin_data = cmin_conf.compute_cmin()\n",
    "cmin_data"
   ]
  },
  {
   "cell_type": "markdown",
   "id": "1a14f2a3-102b-4385-946a-46c8f715a566",
   "metadata": {},
   "source": [
    "###### Step 3: Writing Gaussian input files with the sdf obtained from CMIN"
   ]
  },
  {
   "cell_type": "code",
   "execution_count": null,
   "id": "a1947bc1-16f8-4ba1-8e70-86fb1130c638",
   "metadata": {},
   "outputs": [],
   "source": [
    "cmin_mols = Chem.SDMolSupplier(str(cmin_conf.cmin_file),removeHs=False)\n",
    "for i, mol in enumerate(cmin_mols):\n",
    "    charge= int(mol.GetProp('Real charge'))\n",
    "    qprep(mol=mol, molecule=f'{name_1}_conf_{i+1}', charge=charge, suffix='CMIN-xTB', qm_input='B3LYP/6-31G** opt freq',mem='24GB',nprocs=8)\n",
    "    # run this function using a varfile\n",
    "    # qprep(mol=mol, molecule='quinine_conf_'+str(i+1), charge=charge, varfile=params)\n",
    "    "
   ]
  },
  {
   "cell_type": "markdown",
   "id": "4ad51459",
   "metadata": {},
   "source": [
    "#### TASK 2: Metal complex with SMILES input, no suffix, create Gaussian input files with genECP, CSEARCH with RDKit"
   ]
  },
  {
   "cell_type": "markdown",
   "id": "76aa65c9",
   "metadata": {},
   "source": [
    "###### Step 1: doing CSEARCH"
   ]
  },
  {
   "cell_type": "code",
   "execution_count": null,
   "id": "ca2324a4",
   "metadata": {},
   "outputs": [],
   "source": [
    "smi_metal = 'I[Pd](Cl)([PH3+])[N+]1=CC=CC=C1'\n",
    "params_metal = 'params-metal.yaml'\n",
    "name_2 = 'Pd_complex'\n",
    "\n",
    "csearch_conf_metal = csearch(smi_metal,name_2,varfile=params_metal)\n",
    "csearch_data_metal = csearch_conf_metal.compute_confs()\n",
    "csearch_data_metal"
   ]
  },
  {
   "cell_type": "markdown",
   "id": "c70d7dbf",
   "metadata": {},
   "source": [
    "###### Step 2: Writing Gaussian input files with the sdf obtained from CSEARCH"
   ]
  },
  {
   "cell_type": "code",
   "execution_count": null,
   "id": "d53a6f6f",
   "metadata": {},
   "outputs": [],
   "source": [
    "for i,file in enumerate(csearch_conf_metal.csearch_file):\n",
    "    c_mols = Chem.SDMolSupplier(str(file),removeHs=False)\n",
    "    for j, mol in enumerate(c_mols):\n",
    "        charge= int(mol.GetProp('Real charge'))\n",
    "        qprep(mol=mol, molecule=f'{name_2}_{i}_conf_{j+1}',charge=charge, \n",
    "            bs_gen='def2svp', bs='6-31G*', gen_atoms=['Pd'],qm_input='B3LYP/genecp opt freq',mem='24GB',nprocs=8)\n",
    "        # run this function using a varfile\n",
    "        # qprep(mol=mol, molecule='Pd_conf_'+str(i+1), charge=charge, varfile=params_metal)\n",
    " "
   ]
  },
  {
   "cell_type": "markdown",
   "id": "1f51cda5-ce4e-4d2f-8a30-0a9db40f0350",
   "metadata": {},
   "source": [
    "#### TASK 3: SMILES input of a noncovalent isopentane--water complex, create Gaussian input files, CSEARCH with CREST"
   ]
  },
  {
   "cell_type": "markdown",
   "id": "4bdef8fd",
   "metadata": {},
   "source": [
    "###### Step 1: doing CSEARCH"
   ]
  },
  {
   "cell_type": "code",
   "execution_count": null,
   "id": "fabd74c4-a1aa-495b-8a05-ab9cf9f77a57",
   "metadata": {},
   "outputs": [],
   "source": [
    "smi = 'CCC(C)C.O'\n",
    "csearch_conf = csearch(smi,'isopent-water-complex',CSEARCH='crest',cregen=True)\n",
    "csearch_data = csearch_conf.compute_confs()\n",
    "csearch_data"
   ]
  },
  {
   "cell_type": "markdown",
   "id": "adb45832",
   "metadata": {},
   "source": [
    "###### Step 2: Writing Gaussian input files with the sdf obtained from CSEARCH"
   ]
  },
  {
   "cell_type": "code",
   "execution_count": null,
   "id": "94128683-c1cb-4cb8-830a-13b8dd63c4b6",
   "metadata": {},
   "outputs": [],
   "source": [
    "for file in csearch_conf.csearch_file:\n",
    "    csearch_mols = Chem.SDMolSupplier(str(file),removeHs=False)\n",
    "    for i, mol in enumerate(csearch_mols):\n",
    "        charge= int(mol.GetProp('Real charge'))\n",
    "        qprep(mol=mol, molecule='ts2_conf_'+str(i+1), charge=charge, suffix='CREST', qm_input='B3LYP/6-31G** opt freq',mem='24GB',nprocs=8)"
   ]
  },
  {
   "cell_type": "markdown",
   "id": "b9a82157-387b-4cad-94fe-a1764913fecc",
   "metadata": {},
   "source": [
    "#### TASK 4: TS including a three-component noncovalent complex from SMILES, create ORCA input files, CSEARCH with CREST"
   ]
  },
  {
   "cell_type": "markdown",
   "id": "299fa47c",
   "metadata": {},
   "source": [
    "###### Step 1: creating SMILES with predefined atom numbers and setting constrains"
   ]
  },
  {
   "cell_type": "code",
   "execution_count": null,
   "id": "5c540ff4-f7a7-4799-bceb-340af8039cf1",
   "metadata": {},
   "outputs": [],
   "source": [
    "smi = 'O.FC(C)(C)C.[Cl-]'\n",
    "mol = Chem.MolFromSmiles(smi)\n",
    "mol = Chem.AddHs(mol)\n",
    "for i,atom in enumerate(mol.GetAtoms()):\n",
    "    atom.SetAtomMapNum(i+3) \n",
    "smi_new = Chem.MolToSmiles(mol)\n",
    "print(smi_new)\n"
   ]
  },
  {
   "cell_type": "code",
   "execution_count": null,
   "id": "22b17984-ce17-442e-ba77-c5c30b7ac4ac",
   "metadata": {},
   "outputs": [],
   "source": [
    "mol"
   ]
  },
  {
   "cell_type": "code",
   "execution_count": null,
   "id": "d309bf9f-3f08-4d9a-89d4-80c887396ee8",
   "metadata": {},
   "outputs": [],
   "source": [
    "constraits_dist = [[4,5,1.8],[5,9,1.8]]\n",
    "constraits_angle = [[9,5,4,180]]"
   ]
  },
  {
   "cell_type": "markdown",
   "id": "749d94f7",
   "metadata": {},
   "source": [
    "###### Step 2: doing CSEARCH"
   ]
  },
  {
   "cell_type": "code",
   "execution_count": null,
   "id": "ea94ea59-b28f-4a94-ace3-bfb376c88599",
   "metadata": {},
   "outputs": [],
   "source": [
    "csearch_ts = csearch(smi_new,'ts2',CSEARCH='crest',\n",
    "                     constraints_dist=constraits_dist,constraints_angle=constraits_angle, ts_complex=True, cregen=True)\n",
    "\n",
    "ts_data = csearch_ts.compute_confs()\n",
    "ts_data"
   ]
  },
  {
   "cell_type": "markdown",
   "id": "ce3a1897",
   "metadata": {},
   "source": [
    "###### Step 3: Writing Gaussian input files with the sdf obtained from CSEARCH"
   ]
  },
  {
   "cell_type": "code",
   "execution_count": null,
   "id": "270e0b22-1e17-45bb-8835-853d8c19dea0",
   "metadata": {},
   "outputs": [],
   "source": [
    "ORCA_input = 'BP86 def2-SVP def2/J OptTS\\n'\n",
    "ORCA_input += '%geom\\n'\n",
    "ORCA_input += 'Calc_Hess true\\n'\n",
    "ORCA_input += 'Recalc_Hess 5\\n'\n",
    "ORCA_input += 'end\\n'\n",
    "\n",
    "for file in csearch_ts.csearch_file:\n",
    "    csearch_mols = Chem.SDMolSupplier(str(file),removeHs=False)\n",
    "    for i, mol in enumerate(csearch_mols):\n",
    "        charge= int(mol.GetProp('Real charge'))\n",
    "        qprep(mol=mol, molecule='ts2_conf_'+str(i+1), charge=charge, suffix='CREST-TS', \n",
    "            qm_input=ORCA_input,program='orca',mem='2GB',nprocs=4)"
   ]
  }
 ],
 "metadata": {
  "interpreter": {
   "hash": "8aa3fe90e464923406f5eccc2b73c2c346150d55ceabc9491937b00a06e4c2ce"
  },
  "kernelspec": {
   "display_name": "bm",
   "language": "python",
   "name": "python3"
  },
  "language_info": {
   "codemirror_mode": {
    "name": "ipython",
    "version": 3
   },
   "file_extension": ".py",
   "mimetype": "text/x-python",
   "name": "python",
   "nbconvert_exporter": "python",
   "pygments_lexer": "ipython3",
   "version": "3.7.9"
  }
 },
 "nbformat": 4,
 "nbformat_minor": 5
}
