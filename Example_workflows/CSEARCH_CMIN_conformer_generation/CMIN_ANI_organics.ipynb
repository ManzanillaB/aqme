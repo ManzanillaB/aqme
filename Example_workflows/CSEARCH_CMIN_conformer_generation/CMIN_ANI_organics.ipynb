{
 "cells": [
  {
   "cell_type": "markdown",
   "id": "3c7031cd-d724-4e83-823e-8baea28f4982",
   "metadata": {},
   "source": [
    "#### Organic molecule with SMILES input, CSEARCH performs conformational sampling with RDKit, CMIN refines the geometries and energies with ANI, QPREP creates Gaussian input files"
   ]
  },
  {
   "cell_type": "markdown",
   "id": "78c5e34b",
   "metadata": {},
   "source": [
    "###### Step 1: CSEARCH conformational sampling (creates SDF files)"
   ]
  },
  {
   "cell_type": "code",
   "execution_count": null,
   "id": "4ffe99ff-eca7-4060-b668-fc34ee094e7b",
   "metadata": {},
   "outputs": [],
   "source": [
    "import os, glob\n",
    "from pathlib import Path                                                                                                                                                          \n",
    "from aqme.csearch import csearch\n",
    "from aqme.qprep import qprep\n",
    "\n",
    "# set working directory and SMILES string\n",
    "w_dir_main = Path(os.getcwd())\n",
    "sdf_rdkit_path = w_dir_main.joinpath('quinine_rdkit')\n",
    "smi = 'COC1=CC2=C(C=CN=C2C=C1)[C@H]([C@@H]3C[C@@H]4CCN3C[C@@H]4C=C)O'\n",
    "\n",
    "# run CSEARCH conformational sampling, specifying:\n",
    "# 1) Working directory (w_dir_main=w_dir_main)\n",
    "# 2) PATH to create the new SDF files (destination=sdf_rdkit_path)\n",
    "# 3) RDKit sampling (program='rdkit')\n",
    "# 4) SMILES string (smi=smi)\n",
    "# 5) Name for the output SDF files (name='quinine')\n",
    "csearch(w_dir_main=w_dir_main,destination=sdf_rdkit_path,\n",
    "        smi=smi,name='quinine',program='rdkit')"
   ]
  },
  {
   "cell_type": "markdown",
   "id": "e29617e9-6463-4392-a3c2-ffc89898b1cc",
   "metadata": {},
   "source": [
    "###### Step 2: Doing CMIN with the SDF obtained from CSEARCH"
   ]
  },
  {
   "cell_type": "code",
   "execution_count": null,
   "id": "bd22b635-37e7-4dc0-a270-aac216553578",
   "metadata": {},
   "outputs": [],
   "source": [
    "MISSING PART\n",
    "\n",
    "sdf_cmin_path = w_dir_main.joinpath('quinine_ani')\n",
    "\n",
    "# run CMIN refiner, specifying:\n",
    "# 1) Working directory (w_dir_main=w_dir_main)\n",
    "# 2) PATH to create the new SDF files (destination=sdf_cmin_path)\n",
    "# 3) RDKit sampling (program='rdkit')\n",
    "# 4) SMILES string (smi=smi)\n",
    "cmin(w_dir_main=w_dir_main,destination=sdf_cmin_path,\n",
    "        smi=smi,program='ani')"
   ]
  },
  {
   "cell_type": "markdown",
   "id": "1a14f2a3-102b-4385-946a-46c8f715a566",
   "metadata": {},
   "source": [
    "###### Step 3: Writing Gaussian input files with the SDF obtained from CMIN"
   ]
  },
  {
   "cell_type": "code",
   "execution_count": null,
   "id": "a1947bc1-16f8-4ba1-8e70-86fb1130c638",
   "metadata": {},
   "outputs": [],
   "source": [
    "# set SDF filenames and directory where the new com files will be created\n",
    "com_path = sdf_cmin_path.joinpath(f'com_files')\n",
    "sdf_cmin_files = glob.glob(f'{sdf_cmin_path}/*.sdf')\n",
    "\n",
    "# run QPREP input files generator, with:\n",
    "# 1) Working directory (w_dir_main=sdf_path)\n",
    "# 2) PATH to create the new SDF files (destination=com_path)\n",
    "# 3) Files to convert (files=sdf_cmin_files)\n",
    "# 4) QM program for the input (program='gaussian')\n",
    "# 5) Keyword line for the Gaussian inputs (qm_input='wb97xd/6-31+G* opt freq')\n",
    "# 6) Memory to use in the calculations (mem='24GB')\n",
    "# 7) Processors to use in the calcs (nprocs=8)\n",
    "qprep(w_dir_main=sdf_path,destination=com_path,files=sdf_cmin_files,program='gaussian',\n",
    "        qm_input='wb97xd/6-31+G* opt freq',mem='24GB',nprocs=8)\n",
    " "
   ]
  }
 ],
 "metadata": {
  "interpreter": {
   "hash": "8aa3fe90e464923406f5eccc2b73c2c346150d55ceabc9491937b00a06e4c2ce"
  },
  "kernelspec": {
   "display_name": "bm",
   "language": "python",
   "name": "python3"
  },
  "language_info": {
   "codemirror_mode": {
    "name": "ipython",
    "version": 3
   },
   "file_extension": ".py",
   "mimetype": "text/x-python",
   "name": "python",
   "nbconvert_exporter": "python",
   "pygments_lexer": "ipython3",
   "version": "3.7.9"
  }
 },
 "nbformat": 4,
 "nbformat_minor": 5
}
