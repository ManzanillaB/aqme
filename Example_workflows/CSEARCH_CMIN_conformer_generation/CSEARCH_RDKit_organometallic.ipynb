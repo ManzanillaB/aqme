{
 "cells": [
  {
   "cell_type": "markdown",
   "id": "4ad51459",
   "metadata": {},
   "source": [
    "#### Metal complex with SMILES input, CSEARCH performs conformational sampling with RDKit, QPREP creates Gaussian input files with genECP"
   ]
  },
  {
   "cell_type": "markdown",
   "id": "76aa65c9",
   "metadata": {},
   "source": [
    "###### Step 1: CSEARCH conformational sampling (creates SDF files)"
   ]
  },
  {
   "cell_type": "code",
   "execution_count": null,
   "id": "ca2324a4",
   "metadata": {},
   "outputs": [],
   "source": [
    "import os, glob\n",
    "from pathlib import Path                                                                                                                                                          \n",
    "from aqme.csearch import csearch\n",
    "from aqme.qprep import qprep\n",
    "\n",
    "# set working directory and SMILES string\n",
    "w_dir_main = Path(os.getcwd())\n",
    "sdf_path = w_dir_main.joinpath('Pd_sdf_files')\n",
    "smi_metal = 'I[Pd](Cl)([PH3+])[N+]1=CC=CC=C1'\n",
    "\n",
    "# run CSEARCH conformational sampling, specifying:\n",
    "# 1) Working directory (w_dir_main=w_dir_main)\n",
    "# 2) PATH to create the new SDF files (destination=sdf_path)\n",
    "# 3) Simple RDKit sampling (program='rdkit')\n",
    "# 4) SMILES string (smi=smi_metal)\n",
    "# 5) Name for the output SDF files (name='Pd_complex')\n",
    "# 6) A metal complex is used (metal_complex=True)\n",
    "# 7) The metal is Pd (metal=['Pd'])\n",
    "# 8) Oxidation number +2 (metal_oxi=[2])\n",
    "# 9) The complex is squareplanar (complex_type='squareplanar')\n",
    "csearch(w_dir_main=w_dir_main,destination=sdf_path,program='rdkit',smi=smi_metal,name='Pd_complex',\n",
    "        metal_complex=True,metal=['Pd'],metal_oxi=[2],complex_type='squareplanar')"
   ]
  },
  {
   "cell_type": "markdown",
   "id": "c70d7dbf",
   "metadata": {},
   "source": [
    "###### Step 2: Writing Gaussian input files with the SDF obtained from CSEARCH"
   ]
  },
  {
   "cell_type": "code",
   "execution_count": null,
   "id": "d53a6f6f",
   "metadata": {},
   "outputs": [],
   "source": [
    "# set SDF filenames and directory where the new com files will be created\n",
    "com_path = sdf_path.joinpath(f'com_files')\n",
    "sdf_rdkit_files = glob.glob(f'{sdf_path}/*.sdf')\n",
    "\n",
    "# run QPREP input files generator, with:\n",
    "# 1) Working directory (w_dir_main=sdf_path)\n",
    "# 2) PATH to create the new SDF files (destination=com_path)\n",
    "# 3) Files to convert (files=sdf_rdkit_files)\n",
    "# 4) QM program for the input (program='gaussian')\n",
    "# 5) Keyword line for the Gaussian inputs (qm_input='B3LYP/genecp opt freq')\n",
    "# 6) Basis set to use in the atoms included in genECP (bs_gen='def2svp')\n",
    "# 7) Basis set to use in the rest of the atoms (bs='6-31G*')\n",
    "# 8) Atoms to include as genECP (gen_atoms=['Pd'])\n",
    "# 9) Memory to use in the calculations (mem='24GB')\n",
    "# 10) Processors to use in the calcs (nprocs=8)\n",
    "qprep(w_dir_main=sdf_path,destination=com_path,files=sdf_rdkit_files,program='gaussian',qm_input='B3LYP/genecp opt freq',\n",
    "        bs_gen='def2svp',bs='6-31G*',gen_atoms=['Pd'],mem='24GB',nprocs=8)\n",
    " "
   ]
  },
  {
   "cell_type": "markdown",
   "id": "7a4564f0",
   "metadata": {},
   "source": [
    "###### Bonus 1: If you want to use the same functions using a YAML file that stores all the variables"
   ]
  },
  {
   "cell_type": "code",
   "execution_count": null,
   "id": "aa038ef9",
   "metadata": {},
   "outputs": [],
   "source": [
    "# to load the variables from a YAML file, use the varfile option\n",
    "csearch(varfile='FILENAME.yaml')\n",
    "\n",
    "# for each option, specify it in the YAML file as follows:\n",
    "# program='rdkit' --> program: 'rdkit'\n",
    "# name='Pd_complex' --> name: 'Pd_complex'\n",
    "# etc"
   ]
  },
  {
   "cell_type": "markdown",
   "id": "e6949af6",
   "metadata": {},
   "source": [
    "###### Bonus 2: If you want to use the same functions through command lines"
   ]
  },
  {
   "cell_type": "code",
   "execution_count": null,
   "id": "c496424d",
   "metadata": {},
   "outputs": [],
   "source": [
    "csearch(w_dir_main=w_dir_main,destination=sdf_path,program='rdkit',smi=smi_metal,name='Pd_complex',\n",
    "        metal_complex=True,metal=['Pd'],metal_oxi=[2],complex_type='squareplanar')\n",
    "\n",
    "# for each option, specify it in the command line as follows:\n",
    "# program='rdkit' --> --program 'rdkit'\n",
    "# name='Pd_complex' --> --name Pd_complex\n",
    "# etc\n",
    "# for example: python -m aqme --program rdkit --smi I[Pd](Cl)([PH3+])[N+]1=CC=CC=C1 --name Pd_complex"
   ]
  }
 ],
 "metadata": {
  "interpreter": {
   "hash": "8aa3fe90e464923406f5eccc2b73c2c346150d55ceabc9491937b00a06e4c2ce"
  },
  "kernelspec": {
   "display_name": "bm",
   "language": "python",
   "name": "python3"
  },
  "language_info": {
   "codemirror_mode": {
    "name": "ipython",
    "version": 3
   },
   "file_extension": ".py",
   "mimetype": "text/x-python",
   "name": "python",
   "nbconvert_exporter": "python",
   "pygments_lexer": "ipython3",
   "version": "3.7.9"
  }
 },
 "nbformat": 4,
 "nbformat_minor": 5
}
