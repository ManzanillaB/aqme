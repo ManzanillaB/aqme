{
 "cells": [
  {
   "cell_type": "markdown",
   "metadata": {},
   "source": [
    "#### Organic molecule with SMILES input, CSEARCH performs conformational sampling with RDKit, QDESCP produces xtb properties\n"
   ]
  },
  {
   "cell_type": "markdown",
   "metadata": {},
   "source": [
    "###### Step 1: CSEARCH to produce SDF files"
   ]
  },
  {
   "cell_type": "code",
   "execution_count": null,
   "metadata": {},
   "outputs": [],
   "source": [
    "import glob\n",
    "from aqme.csearch import csearch\n",
    "from aqme.qdescp import qdescp\n",
    "\n",
    "# set working directory, SDF creation folder, name and SMILES string\n",
    "name = 'test'\n",
    "file = 'test.csv'\n",
    "\n",
    "# run CSEARCH conformational sampling, specifying:\n",
    "# 1) RDKit sampling (program='rdkit')\n",
    "# 2) SMILES string (smi=smi)\n",
    "# 3) Name for the output SDF files (name=name)\n",
    "csearch(program='rdkit',input=file)"
   ]
  },
  {
   "cell_type": "markdown",
   "metadata": {},
   "source": [
    "###### Step 2 : QDESCP to produces properties"
   ]
  },
  {
   "cell_type": "code",
   "execution_count": null,
   "metadata": {},
   "outputs": [],
   "source": [
    "# set SDF filenames and directory where the new com files will be created\n",
    "sdf_rdkit_files = glob.glob(f'CSEARCH/*.sdf')\n",
    "\n",
    "# run QDESCP input files generator, with:\n",
    "# 1) Files to run (files=sdf_rdkit_files)\n",
    "qdescp(files=sdf_rdkit_files,boltz=True)\n",
    " "
   ]
  },
  {
   "cell_type": "code",
   "execution_count": null,
   "metadata": {},
   "outputs": [],
   "source": []
  }
 ],
 "metadata": {
  "kernelspec": {
   "display_name": "Python [conda env:svss-bm]",
   "language": "python",
   "name": "conda-env-svss-bm-py"
  },
  "language_info": {
   "codemirror_mode": {
    "name": "ipython",
    "version": 3
   },
   "file_extension": ".py",
   "mimetype": "text/x-python",
   "name": "python",
   "nbconvert_exporter": "python",
   "pygments_lexer": "ipython3",
   "version": "3.7.4"
  }
 },
 "nbformat": 4,
 "nbformat_minor": 5
}
