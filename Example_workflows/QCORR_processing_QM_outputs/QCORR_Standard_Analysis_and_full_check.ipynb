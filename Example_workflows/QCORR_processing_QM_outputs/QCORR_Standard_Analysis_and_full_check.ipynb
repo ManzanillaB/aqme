{
 "cells": [
  {
   "cell_type": "markdown",
   "metadata": {},
   "source": [
    "# Analysis of QM files"
   ]
  },
  {
   "cell_type": "markdown",
   "metadata": {},
   "source": [
    "##### Standard QCORR analysis of Gaussian output files and generation of input files to fix the issues of errored terminations"
   ]
  },
  {
   "cell_type": "code",
   "execution_count": 1,
   "metadata": {},
   "outputs": [
    {
     "name": "stderr",
     "output_type": "stream",
     "text": [
      "RDKit WARNING: [12:26:55] Enabling RDKit 2019.09.3 jupyter extensions\n",
      "[12:26:55] Enabling RDKit 2019.09.3 jupyter extensions\n"
     ]
    },
    {
     "name": "stdout",
     "output_type": "stream",
     "text": [
      "AQME v 1.2 2022/09/02 12:26:55 \n",
      "Citation: AQME v 1.2, Alegre-Requena, J. V.; Sowndarya, S.; Perez-Soto, R.; Alturaifi, T. M.; Paton, R. S., 2022. https://github.com/jvalegre/aqme\n",
      "\n",
      "\n",
      "o  Analyzing output files in /home/svss/Project-DBcg-Debug/aqme2_20220329/examples-updated/Example_workflows/QCORR_processing_QM_outputs/QCORR_1\n",
      "\n",
      "\n",
      "MeOH_SCF_error.log: Termination = other, Error type = SCFerror\n",
      "\n",
      "MeOH_G09.log: Termination = normal, Error type = none\n",
      "\n",
      "Basis_set_error2.log: Termination = other, Error type = atomicbasiserror\n",
      "\n",
      "MeOH_NMR.log: Termination = normal, Error type = sp_calc\n",
      "\n",
      "freq_conv_YYNN.log: Termination = normal, Error type = freq_no_conv\n",
      "\n",
      "Basis_set_error1.log: Termination = other, Error type = atomicbasiserror\n",
      "\n",
      "TS_CH3HCH3_no_conv_freq.log: Termination = normal, Error type = freq_no_conv\n",
      "\n",
      "imag_freq_no_opt.log: Termination = normal, Error type = extra_imag_freq\n",
      "\n",
      "nosymm.log: Termination = other, Error type = not_specified\n",
      "\n",
      "TS_CH3HCH3.log: Termination = normal, Error type = none\n",
      "\n",
      "CH4_T1_SP_spin_contamin.log: Termination = normal, Error type = spin_contaminated\n",
      "\n",
      "TS_CH3HCH3_imag_freq.log: Termination = normal, Error type = extra_imag_freq\n",
      "\n",
      "TS_CH3HCH3_no_imag_freq.log: Termination = normal, Error type = ts_no_imag_freq\n",
      "\n",
      "H_SP.log: Termination = normal, Error type = sp_calc\n",
      "\n",
      "Imag_freq.log: Termination = normal, Error type = extra_imag_freq\n",
      "\n",
      "MeOH_G09_FAIL.log: Termination = other, Error type = not_specified\n",
      "\n",
      "TS_CH3HCH3_unfinished.log: Termination = other, Error type = not_specified\n",
      "\n",
      "H_freq.log: Termination = normal, Error type = none\n",
      "\n",
      "CO2_linear_4freqs.log: Termination = normal, Error type = none\n",
      "\n",
      "x  Potential cclib compatibility problem or no data found for file CH4_before_E (Termination = other, Error type = no_data)\n",
      "\n",
      "z_CH4_duplicate.log: Termination = normal, Error type = none\n",
      "\n",
      "CH2OH2_unfinished.log: Termination = other, Error type = not_specified\n",
      "\n",
      "CH4_Fail_freq_only.log: Termination = other, Error type = no_freq\n",
      "\n",
      "freq_ok_YYNN.log: Termination = normal, Error type = none\n",
      "\n",
      "CH4_SP.log: Termination = normal, Error type = sp_calc\n",
      "\n",
      "bpinene_spin_contamin.log: Termination = normal, Error type = spin_contaminated\n",
      "\n",
      "CO2_linear_3freqs_FAIL.log: Termination = normal, Error type = linear_mol_wrong\n",
      "\n",
      "CH4.log: Termination = normal, Error type = duplicate_calc\n",
      "\n",
      "\n",
      "-- Full check analysis --\n",
      "x  Different program used in the calculations:\n",
      "     * Gaussian 16, Revision C.01 in:\n",
      "       - MeOH_NMR\n",
      "     * Gaussian 09, Revision A.02 in:\n",
      "       - H_SP\n",
      "       - CH4_SP\n",
      "x  Different grid_type used in the calculations:\n",
      "     * fine in:\n",
      "       - MeOH_NMR\n",
      "     * sg1 in:\n",
      "       - H_SP\n",
      "       - CH4_SP\n",
      "x  Different level_of_theory used in the calculations:\n",
      "     * PBE1PBE/CC-pVTZ in:\n",
      "       - MeOH_NMR\n",
      "     * B3LYP/3-21G in:\n",
      "       - H_SP\n",
      "     * wB97XD/3-21G in:\n",
      "       - CH4_SP\n",
      "o  Same dispersion (none) used in all the calculations\n",
      "x  Different solvation used in the calculations:\n",
      "     * scrf=(solvent=chloroform,pcm) in:\n",
      "       - MeOH_NMR\n",
      "     * gas_phase in:\n",
      "       - H_SP\n",
      "       - CH4_SP\n",
      "\n",
      "\n",
      " Time QCORR: 24.53 seconds\n",
      "\n",
      "\n"
     ]
    },
    {
     "data": {
      "text/plain": [
       "<aqme.qcorr.qcorr at 0x2b26d18644d0>"
      ]
     },
     "execution_count": 1,
     "metadata": {},
     "output_type": "execute_result"
    }
   ],
   "source": [
    "# standard QCORR analysis of Gaussian 16 output files and generation of json files\n",
    "import os\n",
    "from aqme.qcorr import qcorr\n",
    "\n",
    "files=os.getcwd()+'/QCORR_1/*.log'\n",
    "\n",
    "# run the QCORR analyzer, with:\n",
    "# 1) Names of the QM output files (files='*.log')\n",
    "# 2) Detect and fix calcs that converged during geometry optimization but didn't converge during frequency calcs (freq_conv='opt=(calcfc,maxstep=5)')\n",
    "qcorr(files=files,freq_conv='opt=(calcfc,maxstep=5)')\n"
   ]
  },
  {
   "cell_type": "markdown",
   "metadata": {},
   "source": [
    "###### Bonus 1: If you want to use the same functions through command lines"
   ]
  },
  {
   "cell_type": "code",
   "execution_count": null,
   "metadata": {},
   "outputs": [],
   "source": [
    "qcorr_calcs = qcorr(files='*.log',freq_conv='opt=(calcfc,maxstep=5)')\n",
    "\n",
    "# for each option, specify it in the command line as follows:\n",
    "# files='*.log' --> --files *.log\n",
    "# freq_conv='opt=(calcfc,maxstep=5)' --> --freq_conv opt=(calcfc,maxstep=5)\n",
    "# etc\n",
    "# for example: python -m aqme --files *.log --freq_conv opt=(calcfc,maxstep=5)"
   ]
  }
 ],
 "metadata": {
  "kernelspec": {
   "display_name": "Python [conda env:svss-bm]",
   "language": "python",
   "name": "conda-env-svss-bm-py"
  },
  "language_info": {
   "codemirror_mode": {
    "name": "ipython",
    "version": 3
   },
   "file_extension": ".py",
   "mimetype": "text/x-python",
   "name": "python",
   "nbconvert_exporter": "python",
   "pygments_lexer": "ipython3",
   "version": "3.7.4"
  }
 },
 "nbformat": 4,
 "nbformat_minor": 5
}
