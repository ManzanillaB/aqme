{
 "cells": [
  {
   "cell_type": "markdown",
   "id": "c3dc00b0",
   "metadata": {},
   "source": [
    "# Analysis of QM files"
   ]
  },
  {
   "cell_type": "markdown",
   "id": "4058e63f",
   "metadata": {},
   "source": [
    "##### Standard QCORR analysis of Gaussian output files and generation of input files to fix the issues of errored terminations"
   ]
  },
  {
   "cell_type": "code",
   "execution_count": null,
   "id": "61a5631f",
   "metadata": {},
   "outputs": [],
   "source": [
    "# standard QCORR analysis of Gaussian 16 output files and generation of json files\n",
    "import os\n",
    "from aqme.qcorr import qcorr\n",
    "\n",
    "w_dir_main=os.getcwd()+'/QCORR_1'\n",
    "\n",
    "# run the QCORR analyzer, with:\n",
    "# 1) Working directory (w_dir_main=w_dir_main)\n",
    "# 2) Names of the QM output files (files='*.log')\n",
    "# 3) Detect and fix calcs that converged during geometry optimization but didn't converge during frequency calcs (freq_conv='opt=(calcfc,maxstep=5)')\n",
    "qcorr(w_dir_main=w_dir_main,files='*.log',freq_conv='opt=(calcfc,maxstep=5)')\n"
   ]
  },
  {
   "cell_type": "markdown",
   "id": "e48a2d15",
   "metadata": {},
   "source": [
    "###### Bonus 1: If you want to use the same functions through command lines"
   ]
  },
  {
   "cell_type": "code",
   "execution_count": null,
   "id": "2d967e5c",
   "metadata": {},
   "outputs": [],
   "source": [
    "qcorr_calcs = qcorr(w_dir_main=w_dir_main,files='*.log',freq_conv='opt=(calcfc,maxstep=5)')\n",
    "\n",
    "# for each option, specify it in the command line as follows:\n",
    "# files='*.log' --> --files *.log\n",
    "# freq_conv='opt=(calcfc,maxstep=5)' --> --freq_conv opt=(calcfc,maxstep=5)\n",
    "# etc\n",
    "# for example: python -m aqme --files *.log --freq_conv opt=(calcfc,maxstep=5)"
   ]
  }
 ],
 "metadata": {
  "kernelspec": {
   "display_name": "Python 3 (ipykernel)",
   "language": "python",
   "name": "python3"
  },
  "language_info": {
   "codemirror_mode": {
    "name": "ipython",
    "version": 3
   },
   "file_extension": ".py",
   "mimetype": "text/x-python",
   "name": "python",
   "nbconvert_exporter": "python",
   "pygments_lexer": "ipython3",
   "version": "3.7.9"
  }
 },
 "nbformat": 4,
 "nbformat_minor": 5
}
