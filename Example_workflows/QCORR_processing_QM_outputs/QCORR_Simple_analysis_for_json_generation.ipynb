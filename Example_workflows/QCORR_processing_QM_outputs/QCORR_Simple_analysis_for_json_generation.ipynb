{
 "cells": [
  {
   "cell_type": "markdown",
   "id": "c3dc00b0",
   "metadata": {},
   "source": [
    "# Analysis of QM files"
   ]
  },
  {
   "cell_type": "markdown",
   "id": "29fa5275",
   "metadata": {},
   "source": [
    "##### QCORR analysis of single-point energy calculations (to generate json files)"
   ]
  },
  {
   "cell_type": "code",
   "execution_count": null,
   "id": "a3dfb732",
   "metadata": {},
   "outputs": [],
   "source": [
    "# QCORR analysis of Gaussian 16 single_point energy calculations with no fullcheck and generation of json files\n",
    "import os\n",
    "from aqme.qcorr import qcorr\n",
    "\n",
    "w_dir_main=os.getcwd()+'/QCORR_3'\n",
    "\n",
    "# run the QCORR analyzer, with:\n",
    "# 1) Working directory (w_dir_main=w_dir_main)\n",
    "# 2) Names of the QM output files (files='*.log')\n",
    "# 3) Skip the full check analysis (fullcheck=False)\n",
    "qcorr(w_dir_main=w_dir_main,files='*.log',fullcheck=False)\n"
   ]
  }
 ],
 "metadata": {
  "kernelspec": {
   "display_name": "Python 3 (ipykernel)",
   "language": "python",
   "name": "python3"
  },
  "language_info": {
   "codemirror_mode": {
    "name": "ipython",
    "version": 3
   },
   "file_extension": ".py",
   "mimetype": "text/x-python",
   "name": "python",
   "nbconvert_exporter": "python",
   "pygments_lexer": "ipython3",
   "version": "3.7.9"
  }
 },
 "nbformat": 4,
 "nbformat_minor": 5
}
