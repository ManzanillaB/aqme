{
 "cells": [
  {
   "cell_type": "markdown",
   "metadata": {},
   "source": [
    "# Analysis of QM files"
   ]
  },
  {
   "cell_type": "markdown",
   "metadata": {},
   "source": [
    "##### QCORR analysis of single-point energy calculations (to generate json files)"
   ]
  },
  {
   "cell_type": "code",
   "execution_count": 1,
   "metadata": {},
   "outputs": [
    {
     "name": "stderr",
     "output_type": "stream",
     "text": [
      "RDKit WARNING: [12:22:42] Enabling RDKit 2019.09.3 jupyter extensions\n",
      "[12:22:42] Enabling RDKit 2019.09.3 jupyter extensions\n"
     ]
    },
    {
     "name": "stdout",
     "output_type": "stream",
     "text": [
      "AQME v 1.2 2022/09/02 12:22:42 \n",
      "Citation: AQME v 1.2, Alegre-Requena, J. V.; Sowndarya, S.; Perez-Soto, R.; Alturaifi, T. M.; Paton, R. S., 2022. https://github.com/jvalegre/aqme\n",
      "\n",
      "\n",
      "o  Analyzing output files in /home/svss/Project-DBcg-Debug/aqme2_20220329/examples-updated/Example_workflows/QCORR_processing_QM_outputs/QCORR_3\n",
      "\n",
      "\n",
      "a_6311.log: Termination = normal, Error type = sp_calc\n",
      "\n",
      "b_6311.log: Termination = normal, Error type = sp_calc\n",
      "\n",
      "\n",
      " Time QCORR: 1.72 seconds\n",
      "\n",
      "\n"
     ]
    },
    {
     "data": {
      "text/plain": [
       "<aqme.qcorr.qcorr at 0x2b894c11a510>"
      ]
     },
     "execution_count": 1,
     "metadata": {},
     "output_type": "execute_result"
    }
   ],
   "source": [
    "# QCORR analysis of Gaussian 16 single_point energy calculations with no fullcheck and generation of json files\n",
    "import os,glob\n",
    "from aqme.qcorr import qcorr\n",
    "\n",
    "files=glob.glob(os.getcwd()+'/QCORR_3/*.log')\n",
    "\n",
    "# run the QCORR analyzer, with:\n",
    "# 1) Working directory (w_dir_main=w_dir_main)\n",
    "# 2) Names of the QM output files (files='*.log')\n",
    "# 3) Skip the full check analysis (fullcheck=False)\n",
    "qcorr(files=files,fullcheck=False)\n"
   ]
  },
  {
   "cell_type": "code",
   "execution_count": null,
   "metadata": {},
   "outputs": [],
   "source": []
  }
 ],
 "metadata": {
  "kernelspec": {
   "display_name": "Python [conda env:svss-bm]",
   "language": "python",
   "name": "conda-env-svss-bm-py"
  },
  "language_info": {
   "codemirror_mode": {
    "name": "ipython",
    "version": 3
   },
   "file_extension": ".py",
   "mimetype": "text/x-python",
   "name": "python",
   "nbconvert_exporter": "python",
   "pygments_lexer": "ipython3",
   "version": "3.7.4"
  }
 },
 "nbformat": 4,
 "nbformat_minor": 5
}
