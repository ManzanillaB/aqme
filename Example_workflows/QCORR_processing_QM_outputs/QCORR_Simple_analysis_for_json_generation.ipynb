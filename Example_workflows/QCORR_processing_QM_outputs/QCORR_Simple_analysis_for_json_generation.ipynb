{
 "cells": [
  {
   "cell_type": "markdown",
   "metadata": {},
   "source": [
    "# Analysis of QM files"
   ]
  },
  {
   "cell_type": "markdown",
   "metadata": {},
   "source": [
    "##### QCORR analysis of single-point energy calculations (to generate json files)"
   ]
  },
  {
   "cell_type": "code",
   "execution_count": null,
   "metadata": {},
   "outputs": [],
   "source": [
    "# QCORR analysis of Gaussian 16 single_point energy calculations with no fullcheck and generation of json files\n",
    "import os,glob\n",
    "from aqme.qcorr import qcorr\n",
    "\n",
    "files=glob.glob(os.getcwd()+'/QCORR_3/*.log')\n",
    "\n",
    "# run the QCORR analyzer, with:\n",
    "# 1) Names of the QM output files (files='*.log')\n",
    "# 1) Skip the full check analysis (fullcheck=False)\n",
    "qcorr(files=files,fullcheck=False)\n"
   ]
  },
  {
   "cell_type": "code",
   "execution_count": null,
   "metadata": {},
   "outputs": [],
   "source": []
  }
 ],
 "metadata": {
  "kernelspec": {
   "display_name": "Python [conda env:svss-bm]",
   "language": "python",
   "name": "conda-env-svss-bm-py"
  },
  "language_info": {
   "codemirror_mode": {
    "name": "ipython",
    "version": 3
   },
   "file_extension": ".py",
   "mimetype": "text/x-python",
   "name": "python",
   "nbconvert_exporter": "python",
   "pygments_lexer": "ipython3",
   "version": "3.7.4"
  }
 },
 "nbformat": 4,
 "nbformat_minor": 5
}
