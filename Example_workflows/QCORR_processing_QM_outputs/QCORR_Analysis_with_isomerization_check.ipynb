{
 "cells": [
  {
   "cell_type": "markdown",
   "metadata": {},
   "source": [
    "# Analysis of QM files"
   ]
  },
  {
   "cell_type": "markdown",
   "metadata": {},
   "source": [
    "##### QCORR analysis including isomerization filter"
   ]
  },
  {
   "cell_type": "code",
   "execution_count": 4,
   "metadata": {},
   "outputs": [
    {
     "name": "stdout",
     "output_type": "stream",
     "text": [
      "AQME v 1.2 2022/09/02 12:18:51 \n",
      "Citation: AQME v 1.2, Alegre-Requena, J. V.; Sowndarya, S.; Perez-Soto, R.; Alturaifi, T. M.; Paton, R. S., 2022. https://github.com/jvalegre/aqme\n",
      "\n",
      "\n",
      "o  Analyzing output files in /home/svss/Project-DBcg-Debug/aqme2_20220329/examples-updated/Example_workflows/QCORR_processing_QM_outputs/QCORR_2\n",
      "\n",
      "\n",
      "CH2OH2_isomerized.log: Termination = normal, Error type = isomerization\n",
      "\n",
      "CH4.log: Termination = normal, Error type = none\n",
      "\n",
      "\n",
      "-- Full check analysis --\n",
      "o  Same program (Gaussian 09, Revision A.02) used in all the calculations\n",
      "o  Same grid_type (sg1) used in all the calculations\n",
      "o  Same level_of_theory (M062X/3-21G) used in all the calculations\n",
      "o  Same dispersion (none) used in all the calculations\n",
      "o  Same solvation (gas_phase) used in all the calculations\n",
      "\n",
      "\n",
      " Time QCORR: 2.17 seconds\n",
      "\n",
      "\n"
     ]
    },
    {
     "data": {
      "text/plain": [
       "<aqme.qcorr.qcorr at 0x2b25811d3e10>"
      ]
     },
     "execution_count": 4,
     "metadata": {},
     "output_type": "execute_result"
    }
   ],
   "source": [
    "# QCORR analysis of Gaussian 16 output files including isomerization check and generation of json files\n",
    "import os,glob\n",
    "from aqme.qcorr import qcorr\n",
    "\n",
    "files=glob.glob(os.getcwd()+'/QCORR_2/*.log')\n",
    "isom_inputs =os.getcwd()+'/QCORR_2'\n",
    "\n",
    "\n",
    "# run the QCORR analyzer, with:\n",
    "# 1) Names of the QM output files (files='*.log')\n",
    "# 2) Detect and fix calcs that converged during geometry optimization but didn't converge during frequency calcs (freq_conv='opt=(calcfc,maxstep=5)')\n",
    "# 3) Type of initial input files where the LOG files come from (isom_type='com')\n",
    "# 4) Folder with the initial input files (isom_inputs=w_dir_main)\n",
    "qcorr(files=files,freq_conv='opt=(calcfc,maxstep=5)',\n",
    "      isom_type='com',isom_inputs=isom_inputs)"
   ]
  },
  {
   "cell_type": "code",
   "execution_count": null,
   "metadata": {},
   "outputs": [],
   "source": []
  }
 ],
 "metadata": {
  "kernelspec": {
   "display_name": "Python [conda env:svss-bm]",
   "language": "python",
   "name": "conda-env-svss-bm-py"
  },
  "language_info": {
   "codemirror_mode": {
    "name": "ipython",
    "version": 3
   },
   "file_extension": ".py",
   "mimetype": "text/x-python",
   "name": "python",
   "nbconvert_exporter": "python",
   "pygments_lexer": "ipython3",
   "version": "3.7.4"
  }
 },
 "nbformat": 4,
 "nbformat_minor": 5
}
