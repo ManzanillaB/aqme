{
 "cells": [
  {
   "cell_type": "markdown",
   "id": "c3dc00b0",
   "metadata": {},
   "source": [
    "# Analysis of QM files"
   ]
  },
  {
   "cell_type": "markdown",
   "id": "29e2d38b",
   "metadata": {},
   "source": [
    "##### Separated QCORR full check analysis of successful terminations"
   ]
  },
  {
   "cell_type": "code",
   "execution_count": null,
   "id": "e627495a",
   "metadata": {},
   "outputs": [],
   "source": [
    "# ** full check of json files can be done separately using the function qcorr.full_check(). It only\n",
    "# requires a collection of json files and it analyzes whether the calculations were done homogeneously\n",
    "# (i.e. same level of theory, grid size, program and version, solvation model and empirical dispersion)\n",
    "\n",
    "import os\n",
    "from aqme.qcorr import full_check\n",
    "\n",
    "w_dir_main=os.getcwd()+'/QCORR_4'\n",
    "\n",
    "# run the full check analyzer, with:\n",
    "# 1) Working directory (w_dir_main=w_dir_main)\n",
    "# 2) Destination of the dat file generated (destination_fullcheck=w_dir_main)\n",
    "# 3) names of the JSON files to check (files='*.json')\n",
    "full_check(w_dir_main=w_dir_main,destination_fullcheck=w_dir_main,files='*.json')"
   ]
  }
 ],
 "metadata": {
  "kernelspec": {
   "display_name": "Python 3 (ipykernel)",
   "language": "python",
   "name": "python3"
  },
  "language_info": {
   "codemirror_mode": {
    "name": "ipython",
    "version": 3
   },
   "file_extension": ".py",
   "mimetype": "text/x-python",
   "name": "python",
   "nbconvert_exporter": "python",
   "pygments_lexer": "ipython3",
   "version": "3.7.9"
  }
 },
 "nbformat": 4,
 "nbformat_minor": 5
}
