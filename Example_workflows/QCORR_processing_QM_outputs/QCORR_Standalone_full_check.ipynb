{
 "cells": [
  {
   "cell_type": "markdown",
   "metadata": {},
   "source": [
    "# Analysis of QM files"
   ]
  },
  {
   "cell_type": "markdown",
   "metadata": {},
   "source": [
    "##### Separated QCORR full check analysis of successful terminations"
   ]
  },
  {
   "cell_type": "code",
   "execution_count": 3,
   "metadata": {},
   "outputs": [
    {
     "ename": "IndexError",
     "evalue": "index 0 is out of bounds for axis 0 with size 0",
     "output_type": "error",
     "traceback": [
      "\u001b[0;31m---------------------------------------------------------------------------\u001b[0m",
      "\u001b[0;31mIndexError\u001b[0m                                Traceback (most recent call last)",
      "\u001b[0;32m/tmp/ipykernel_113079/352327585.py\u001b[0m in \u001b[0;36m<module>\u001b[0;34m\u001b[0m\n\u001b[1;32m     12\u001b[0m \u001b[0;31m# 1) Destination of the dat file generated (destination_fullcheck=w_dir_main)\u001b[0m\u001b[0;34m\u001b[0m\u001b[0;34m\u001b[0m\u001b[0;34m\u001b[0m\u001b[0m\n\u001b[1;32m     13\u001b[0m \u001b[0;31m# 2) names of the JSON files to check (files='*.json')\u001b[0m\u001b[0;34m\u001b[0m\u001b[0;34m\u001b[0m\u001b[0;34m\u001b[0m\u001b[0m\n\u001b[0;32m---> 14\u001b[0;31m \u001b[0mfull_check\u001b[0m\u001b[0;34m(\u001b[0m\u001b[0mdestination_fullcheck\u001b[0m\u001b[0;34m=\u001b[0m\u001b[0mdestination_fullcheck\u001b[0m\u001b[0;34m,\u001b[0m\u001b[0mfiles\u001b[0m\u001b[0;34m=\u001b[0m\u001b[0mfiles\u001b[0m\u001b[0;34m)\u001b[0m\u001b[0;34m\u001b[0m\u001b[0;34m\u001b[0m\u001b[0m\n\u001b[0m",
      "\u001b[0;32m/apps/conda/svss/envs/bm/lib/python3.7/site-packages/aqme/qcorr_utils.py\u001b[0m in \u001b[0;36mfull_check\u001b[0;34m(w_dir_main, destination_fullcheck, files, log)\u001b[0m\n\u001b[1;32m    246\u001b[0m             \u001b[0;32melse\u001b[0m\u001b[0;34m:\u001b[0m\u001b[0;34m\u001b[0m\u001b[0;34m\u001b[0m\u001b[0m\n\u001b[1;32m    247\u001b[0m                 fullcheck_txt += (\n\u001b[0;32m--> 248\u001b[0;31m                     \u001b[0;34mf\"\\no  Same {prop} ({unique_props[0]}) used in all the calculations\"\u001b[0m\u001b[0;34m\u001b[0m\u001b[0;34m\u001b[0m\u001b[0m\n\u001b[0m\u001b[1;32m    249\u001b[0m                 )\n\u001b[1;32m    250\u001b[0m \u001b[0;34m\u001b[0m\u001b[0m\n",
      "\u001b[0;31mIndexError\u001b[0m: index 0 is out of bounds for axis 0 with size 0"
     ]
    }
   ],
   "source": [
    "# ** full check of json files can be done separately using the function qcorr.full_check(). It only\n",
    "# requires a collection of json files and it analyzes whether the calculations were done homogeneously\n",
    "# (i.e. same level of theory, grid size, program and version, solvation model and empirical dispersion)\n",
    "\n",
    "import os,glob\n",
    "from aqme.qcorr import full_check\n",
    "\n",
    "files=glob.glob(os.getcwd()+'/QCORR_4/*.log')\n",
    "destination_fullcheck = os.getcwd()+'/QCORR_4'\n",
    "\n",
    "# run the full check analyzer, with:\n",
    "# 1) Destination of the dat file generated (destination_fullcheck=w_dir_main)\n",
    "# 2) names of the JSON files to check (files='*.json')\n",
    "full_check(destination_fullcheck=destination_fullcheck,files=files)"
   ]
  },
  {
   "cell_type": "code",
   "execution_count": null,
   "metadata": {},
   "outputs": [],
   "source": []
  }
 ],
 "metadata": {
  "kernelspec": {
   "display_name": "Python [conda env:svss-bm]",
   "language": "python",
   "name": "conda-env-svss-bm-py"
  },
  "language_info": {
   "codemirror_mode": {
    "name": "ipython",
    "version": 3
   },
   "file_extension": ".py",
   "mimetype": "text/x-python",
   "name": "python",
   "nbconvert_exporter": "python",
   "pygments_lexer": "ipython3",
   "version": "3.7.4"
  }
 },
 "nbformat": 4,
 "nbformat_minor": 5
}
